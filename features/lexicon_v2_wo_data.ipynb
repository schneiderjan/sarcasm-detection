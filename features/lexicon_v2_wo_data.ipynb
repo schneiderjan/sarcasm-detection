{
 "cells": [
  {
   "cell_type": "markdown",
   "metadata": {},
   "source": [
    "# Buildung a lexicon out of negative and positive tweets"
   ]
  },
  {
   "cell_type": "markdown",
   "metadata": {},
   "source": [
    "In order to find not only sentiment on unigrams or complete sentences, we need build a lexicon that covers ngrams(n>=2). We achieve this by finding bi- and trigrams in a positive and negative. Afterwards the corresponding sentiment score will be calculated."
   ]
  },
  {
   "cell_type": "code",
   "execution_count": 150,
   "metadata": {
    "collapsed": false
   },
   "outputs": [],
   "source": [
    "import pandas as pd\n",
    "import numpy as np\n",
    "import re\n",
    "\n",
    "dfPos = pd.read_csv(\"data/positive_dataset.csv\")\n",
    "dfNeg = pd.read_csv(\"data/negative_dataset.csv\")\n",
    "dfPos = dfPos.drop(\"target\", 1)\n",
    "dfNeg = dfNeg.drop(\"target\", 1)"
   ]
  },
  {
   "cell_type": "markdown",
   "metadata": {},
   "source": [
    "First step is to clean the data from mentions, retweets or links"
   ]
  },
  {
   "cell_type": "code",
   "execution_count": 151,
   "metadata": {
    "collapsed": false
   },
   "outputs": [],
   "source": [
    "def clean_tweets(df):\n",
    "    df[\"text\"]=df[\"text\"].str.replace(\"@mention\",\"\").str.strip()\n",
    "    df[\"text\"]=df[\"text\"].str.replace(\"@\\w*\",\"\").str.strip()\n",
    "    df[\"text\"]=df[\"text\"].str.replace(\"#\\w*\",\"\").str.strip()\n",
    "    df[\"text\"]=df[\"text\"].str.replace(\"http.*[\\w\\s]*\",\"\").str.strip()\n",
    "    df[\"text\"]=df[\"text\"].str.replace(\"RT\",\"\").str.strip()\n",
    "    return df"
   ]
  },
  {
   "cell_type": "code",
   "execution_count": 152,
   "metadata": {
    "collapsed": false,
    "scrolled": true
   },
   "outputs": [
    {
     "data": {
      "text/html": [
       "<div>\n",
       "<table border=\"1\" class=\"dataframe\">\n",
       "  <thead>\n",
       "    <tr style=\"text-align: right;\">\n",
       "      <th></th>\n",
       "      <th>text</th>\n",
       "    </tr>\n",
       "  </thead>\n",
       "  <tbody>\n",
       "    <tr>\n",
       "      <th>0</th>\n",
       "      <td>Good case, Excellent value.</td>\n",
       "    </tr>\n",
       "    <tr>\n",
       "      <th>1</th>\n",
       "      <td>Great for the jawbone.</td>\n",
       "    </tr>\n",
       "    <tr>\n",
       "      <th>2</th>\n",
       "      <td>The mic is great.</td>\n",
       "    </tr>\n",
       "  </tbody>\n",
       "</table>\n",
       "</div>"
      ],
      "text/plain": [
       "                          text\n",
       "0  Good case, Excellent value.\n",
       "1       Great for the jawbone.\n",
       "2            The mic is great."
      ]
     },
     "execution_count": 152,
     "metadata": {},
     "output_type": "execute_result"
    }
   ],
   "source": [
    "dfPos = clean_tweets(dfPos)\n",
    "dfNeg = clean_tweets(dfNeg)\n",
    "dfNeg.head(3)\n",
    "dfPos.head(3)"
   ]
  },
  {
   "cell_type": "markdown",
   "metadata": {},
   "source": [
    "Having a cleaned dataset we define a method to extract ngrams"
   ]
  },
  {
   "cell_type": "code",
   "execution_count": 153,
   "metadata": {
    "collapsed": false,
    "scrolled": true
   },
   "outputs": [],
   "source": [
    "import nltk\n",
    "from nltk.util import ngrams\n",
    "from nltk.collocations import *\n",
    "from textblob import TextBlob\n",
    "\n",
    "def extract_ngrams(data, n):\n",
    "    tempList=[]\n",
    "#     for tweets in data[\"text\"].iteritems():\n",
    "    for tweets in data[\"text\"]:\n",
    "#         one_string = one_string + tweets\n",
    "#         tweet = TextBlob(str(tweets))\n",
    "#         print(tweet)\n",
    "        grams = ngrams(tweets.split(), n)\n",
    "#         print(grams)\n",
    "        for gram in grams:\n",
    "            tempList.append(gram)\n",
    "    return tempList"
   ]
  },
  {
   "cell_type": "code",
   "execution_count": 154,
   "metadata": {
    "collapsed": false
   },
   "outputs": [],
   "source": [
    "bigramsPos = extract_ngrams(dfPos, 2)\n",
    "bigramsNeg = extract_ngrams(dfNeg, 2)\n",
    "trigramsNeg= extract_ngrams(dfNeg, 3)\n",
    "trigramsPos = extract_ngrams(dfPos, 3)"
   ]
  },
  {
   "cell_type": "markdown",
   "metadata": {},
   "source": [
    "We build dictionaries for bi-/trigrams and count their occurences"
   ]
  },
  {
   "cell_type": "code",
   "execution_count": 155,
   "metadata": {
    "collapsed": false
   },
   "outputs": [],
   "source": [
    "from collections import Counter\n",
    "\n",
    "cntBigramsPos = Counter(bigramsPos)\n",
    "cntBigramsNeg = Counter(bigramsNeg)\n",
    "cntTrigramsPos = Counter(trigramsPos)\n",
    "cntTrigramsNeg = Counter(trigramsNeg)\n"
   ]
  },
  {
   "cell_type": "code",
   "execution_count": 156,
   "metadata": {
    "collapsed": false
   },
   "outputs": [
    {
     "data": {
      "text/plain": [
       "[(('I', 'had', 'to'), 6),\n",
       " (('I', 'could', 'not'), 4),\n",
       " (('work', 'with', 'my'), 4)]"
      ]
     },
     "execution_count": 156,
     "metadata": {},
     "output_type": "execute_result"
    }
   ],
   "source": [
    "cntTrigramsNeg.most_common(3)"
   ]
  },
  {
   "cell_type": "code",
   "execution_count": 157,
   "metadata": {
    "collapsed": false
   },
   "outputs": [
    {
     "data": {
      "text/plain": [
       "[(('This', 'is', 'a'), 7),\n",
       " (('I', 'love', 'this'), 6),\n",
       " (('I', 'am', 'very'), 5)]"
      ]
     },
     "execution_count": 157,
     "metadata": {},
     "output_type": "execute_result"
    }
   ],
   "source": [
    "cntTrigramsPos.most_common(3)"
   ]
  },
  {
   "cell_type": "markdown",
   "metadata": {},
   "source": [
    "We remove entries with less than 10 occurences/values"
   ]
  },
  {
   "cell_type": "code",
   "execution_count": 158,
   "metadata": {
    "collapsed": false
   },
   "outputs": [],
   "source": [
    "# Remove margins! AKA occurences below 10 ====>>> wait for data\n",
    "def remove_occurences_below_10(d):\n",
    "    dNew = { k : v for k,v in d.items() if v>10}\n",
    "#     for key, value in cntDict.items():\n",
    "#         if value <= 10:\n",
    "#             del cntDict[key]\n",
    "    return dNew"
   ]
  },
  {
   "cell_type": "code",
   "execution_count": 159,
   "metadata": {
    "collapsed": false
   },
   "outputs": [],
   "source": [
    "# # bigramNeg\n",
    "# print(\"cntBigramsNeg: \", len(cntBigramsNeg))\n",
    "# cntBigramsNeg = remove_occurences_below_10(cntBigramsNeg)\n",
    "# print(\"cntBigramsNeg: \",len(cntBigramsNeg))\n",
    "# # bigramPos\n",
    "# print(\"cntBigramsPos: \", len(cntBigramsPos))\n",
    "# cntBigramsPos = remove_occurences_below_10(cntBigramsPos)\n",
    "# print(\"cntBigramsPos: \",len(cntBigramsPos))\n",
    "# # trigramsNeg\n",
    "# print(\"cntTrigramsNeg: \", len(cntTrigramsNeg))\n",
    "# cntTrigramsNeg = remove_occurences_below_10(cntTrigramsNeg)\n",
    "# print(\"cntTrigramsNeg: \",len(cntTrigramsNeg))\n",
    "# # trigramsPos\n",
    "# print(\"cntTrigramsPos: \", len(cntTrigramsPos))\n",
    "# cntTrigramsPos = remove_occurences_below_10(cntTrigramsPos)\n",
    "# print(\"cntTrigramsPos: \",len(cntTrigramsPos))"
   ]
  },
  {
   "cell_type": "code",
   "execution_count": 160,
   "metadata": {
    "collapsed": true
   },
   "outputs": [],
   "source": [
    "trigramsPosSet = set(cntTrigramsPos)\n",
    "trigramsNegSet = set(cntTrigramsNeg)\n",
    "bigramsPosSet = set(cntBigramsPos)\n",
    "bigramsNegSet = set(cntBigramsNeg)"
   ]
  },
  {
   "cell_type": "code",
   "execution_count": 161,
   "metadata": {
    "collapsed": true
   },
   "outputs": [],
   "source": [
    "def calculate_sentiment_score(nrPos, nrNeg):\n",
    "    sentiment_score = (nrPos - nrNeg) / (nrPos + nrNeg)\n",
    "    return sentiment_score"
   ]
  },
  {
   "cell_type": "code",
   "execution_count": 162,
   "metadata": {
    "collapsed": false
   },
   "outputs": [],
   "source": [
    "# TRIGRAMS\n",
    "scoresTrigrams={}\n",
    "for i in trigramsPosSet.intersection(trigramsNegSet):\n",
    "#     try:\n",
    "    score = calculate_sentiment_score(cntTrigramsPos[i], cntTrigramsNeg[i])\n",
    "    # FILTER OUT SCORES E(􀀀-0.1 - 0.1).\n",
    "    if not -0.1 <= score <= 0.1:\n",
    "        scoresTrigrams[i] = score\n",
    "#     except ZeroDivisionError:\n",
    "#         print(\"ZeroDivisionError:\", i,cntBigramsPos[i], cntBigramsNeg[i])"
   ]
  },
  {
   "cell_type": "code",
   "execution_count": 163,
   "metadata": {
    "collapsed": false
   },
   "outputs": [],
   "source": [
    "# BIGRAMS\n",
    "scoresBigrams= {}\n",
    "for i in bigramsNegSet.intersection(bigramsPosSet):\n",
    "    score = calculate_sentiment_score(cntBigramsPos[i], cntBigramsNeg[i])\n",
    "    # FILTER OUT SCORES E(􀀀-0.1 - 0.1).\n",
    "    if not -0.1 <= score <= 0.1:\n",
    "        scoresBigrams[i] = score"
   ]
  },
  {
   "cell_type": "code",
   "execution_count": 166,
   "metadata": {
    "collapsed": false,
    "scrolled": false
   },
   "outputs": [
    {
     "data": {
      "text/plain": [
       "{('All', 'in'): 0.3333333333333333,\n",
       " ('Battery', 'life'): 0.3333333333333333,\n",
       " ('I', 'am'): 0.4117647058823529,\n",
       " ('I', 'can'): 0.14285714285714285,\n",
       " ('I', 'could'): -0.4,\n",
       " ('I', 'did'): -0.3333333333333333,\n",
       " ('I', \"don't\"): -0.6,\n",
       " ('I', 'found'): -0.3333333333333333,\n",
       " ('I', 'got'): 0.6,\n",
       " ('I', 'had'): -0.16666666666666666,\n",
       " ('I', 'have'): 0.1111111111111111,\n",
       " ('I', 'like'): 0.5,\n",
       " ('I', 'really'): 0.2,\n",
       " ('I', 'received'): 0.5,\n",
       " ('I', 'thought'): 0.3333333333333333,\n",
       " ('I', 'was'): -0.17647058823529413,\n",
       " ('I', 'would'): 0.38461538461538464,\n",
       " (\"I've\", 'had'): 0.14285714285714285,\n",
       " ('If', 'you'): -0.75,\n",
       " ('It', 'is'): 0.625,\n",
       " ('So', 'I'): -0.3333333333333333,\n",
       " ('The', 'battery'): -0.3333333333333333,\n",
       " ('The', 'design'): -0.3333333333333333,\n",
       " ('The', 'only'): -0.3333333333333333,\n",
       " ('The', 'sound'): 0.5,\n",
       " ('This', 'is'): 0.3,\n",
       " ('This', 'item'): 0.3333333333333333,\n",
       " ('This', 'phone'): 0.3333333333333333,\n",
       " ('This', 'product'): -0.2,\n",
       " ('a', 'couple'): -0.2,\n",
       " ('a', 'few'): -0.3333333333333333,\n",
       " ('a', 'lot'): 0.6666666666666666,\n",
       " ('a', 'new'): -0.5,\n",
       " ('a', 'while'): -0.3333333333333333,\n",
       " ('a', 'year'): -0.5,\n",
       " ('about', 'a'): -0.5,\n",
       " ('about', 'this'): -0.5,\n",
       " ('after', 'I'): -0.3333333333333333,\n",
       " ('after', 'a'): -0.3333333333333333,\n",
       " ('all', 'I'): 0.3333333333333333,\n",
       " ('all', 'my'): -0.3333333333333333,\n",
       " ('am', 'very'): 0.6666666666666666,\n",
       " ('and', 'I'): -0.25,\n",
       " ('and', 'has'): 0.5,\n",
       " ('and', 'is'): 0.6666666666666666,\n",
       " ('and', 'it'): 0.25925925925925924,\n",
       " ('and', 'more.'): 0.3333333333333333,\n",
       " ('and', 'my'): 0.3333333333333333,\n",
       " ('and', 'now'): -0.3333333333333333,\n",
       " ('and', 'off'): -0.3333333333333333,\n",
       " ('and', 'so'): 0.3333333333333333,\n",
       " ('and', 'the'): 0.25,\n",
       " ('and', 'this'): 0.5,\n",
       " ('and', 'was'): 0.2,\n",
       " ('and', 'with'): 0.3333333333333333,\n",
       " ('and', 'you'): 0.3333333333333333,\n",
       " ('any', 'kind'): -0.3333333333333333,\n",
       " ('as', 'a'): 0.2,\n",
       " ('as', 'the'): -0.6,\n",
       " ('as', 'well'): 0.3333333333333333,\n",
       " ('at', 'the'): 0.5,\n",
       " ('battery', 'is'): -0.2,\n",
       " ('battery', 'life'): -0.3333333333333333,\n",
       " ('be', 'the'): -0.5,\n",
       " ('because', 'of'): -0.6,\n",
       " ('better', 'than'): 0.3333333333333333,\n",
       " ('black', 'and'): -0.3333333333333333,\n",
       " ('but', 'I'): -0.42857142857142855,\n",
       " ('but', 'it'): -0.2,\n",
       " ('but', 'this'): 0.5,\n",
       " ('can', 'say'): 0.3333333333333333,\n",
       " ('car', 'charger'): -0.3333333333333333,\n",
       " ('cell', 'phone'): 0.3333333333333333,\n",
       " ('charger', 'and'): -0.5,\n",
       " ('could', 'not'): -0.6666666666666666,\n",
       " ('device', 'is'): -0.3333333333333333,\n",
       " ('did', 'not'): -0.7777777777777778,\n",
       " ('do', 'not'): -0.3333333333333333,\n",
       " ('does', 'not'): -0.5,\n",
       " ('down', 'the'): -0.3333333333333333,\n",
       " ('easy', 'to'): 0.6,\n",
       " ('for', 'a'): 0.14285714285714285,\n",
       " ('for', 'about'): 0.3333333333333333,\n",
       " ('for', 'the'): 0.16666666666666666,\n",
       " ('for', 'this'): 0.3333333333333333,\n",
       " ('from', 'a'): -0.3333333333333333,\n",
       " ('from', 'the'): -0.14285714285714285,\n",
       " ('go', 'to'): 0.3333333333333333,\n",
       " ('going', 'to'): -0.3333333333333333,\n",
       " ('good', 'as'): 0.3333333333333333,\n",
       " ('good', 'in'): -0.3333333333333333,\n",
       " ('good', 'quality'): 0.6,\n",
       " ('got', 'the'): 0.3333333333333333,\n",
       " ('had', 'this'): -0.3333333333333333,\n",
       " ('had', 'to'): -0.75,\n",
       " ('happy', 'with'): 0.8181818181818182,\n",
       " ('has', 'been'): 0.2,\n",
       " ('have', 'a'): 0.3333333333333333,\n",
       " ('have', 'ever'): -0.2,\n",
       " ('have', 'had'): 0.2,\n",
       " ('have', 'to'): -0.45454545454545453,\n",
       " ('headset', 'for'): 0.6,\n",
       " ('i', 'have'): 0.3333333333333333,\n",
       " ('i', 'would'): -0.3333333333333333,\n",
       " ('if', 'you'): -0.7142857142857143,\n",
       " ('impressed', 'with'): 0.5,\n",
       " ('in', 'a'): -0.5555555555555556,\n",
       " ('in', 'my'): -0.6923076923076923,\n",
       " ('into', 'my'): -0.3333333333333333,\n",
       " ('is', 'a'): 0.15384615384615385,\n",
       " ('is', 'an'): 0.5,\n",
       " ('is', 'great,'): 0.5,\n",
       " ('is', 'not'): -0.2,\n",
       " ('is', 'quite'): -0.3333333333333333,\n",
       " ('is', 'really'): -0.3333333333333333,\n",
       " ('is', 'so'): 0.3333333333333333,\n",
       " ('is', 'that'): -0.5,\n",
       " ('is', 'the'): -0.17647058823529413,\n",
       " ('is', 'very'): 0.42857142857142855,\n",
       " ('it', 'again'): -0.3333333333333333,\n",
       " ('it', 'did'): -0.5,\n",
       " ('it', 'does'): -0.3333333333333333,\n",
       " ('it', 'fits'): 0.5,\n",
       " ('it', 'for'): -0.42857142857142855,\n",
       " ('it', 'has'): 0.2,\n",
       " ('it', \"wasn't\"): -0.3333333333333333,\n",
       " ('it', 'would'): -0.3333333333333333,\n",
       " ('kind', 'of'): -0.5,\n",
       " ('like', 'a'): 0.42857142857142855,\n",
       " ('like', 'it'): -0.3333333333333333,\n",
       " ('like', 'it.'): 0.5,\n",
       " ('makes', 'it'): 0.3333333333333333,\n",
       " ('me', 'to'): -0.6666666666666666,\n",
       " ('more', 'than'): -0.5,\n",
       " ('my', 'cell'): 0.2,\n",
       " ('my', 'phone'): 0.4,\n",
       " ('not', 'even'): 0.3333333333333333,\n",
       " ('not', 'get'): -0.3333333333333333,\n",
       " ('not', 'have'): -0.3333333333333333,\n",
       " ('now', 'and'): 0.3333333333333333,\n",
       " ('of', 'a'): -0.2,\n",
       " ('of', 'the'): -0.28,\n",
       " ('on', 'and'): -0.5,\n",
       " ('on', 'it'): -0.5,\n",
       " ('on', 'my'): -0.5,\n",
       " ('on', 'this'): -0.6666666666666666,\n",
       " ('on', 'your'): -0.3333333333333333,\n",
       " ('only', 'had'): 0.3333333333333333,\n",
       " ('out', 'of'): -0.42857142857142855,\n",
       " ('out', 'the'): -0.3333333333333333,\n",
       " ('over', 'the'): 0.3333333333333333,\n",
       " ('phone', \"I've\"): 0.2,\n",
       " ('phone', 'and'): 0.3333333333333333,\n",
       " ('phone', \"doesn't\"): -0.3333333333333333,\n",
       " ('phone', 'for'): -0.5,\n",
       " ('phone', 'from'): 0.3333333333333333,\n",
       " ('phone', 'to'): 0.2,\n",
       " ('phone', 'was'): -0.3333333333333333,\n",
       " ('problem', 'with'): 0.2,\n",
       " ('product', 'for'): 0.5,\n",
       " ('product', 'is'): -0.2,\n",
       " ('quality', 'and'): 0.3333333333333333,\n",
       " ('quality', 'is'): 0.25,\n",
       " ('received', 'my'): 0.3333333333333333,\n",
       " ('reception', 'is'): 0.3333333333333333,\n",
       " ('recommend', 'these'): 0.3333333333333333,\n",
       " ('recommend', 'this'): 0.4,\n",
       " ('since', 'it'): -0.3333333333333333,\n",
       " ('small', 'and'): 0.3333333333333333,\n",
       " ('sound', 'and'): 0.3333333333333333,\n",
       " ('sound', 'is'): 0.7142857142857143,\n",
       " ('sound', 'quality'): 0.3333333333333333,\n",
       " ('sound', 'quality.'): 0.3333333333333333,\n",
       " ('that', 'I'): -0.45454545454545453,\n",
       " ('that', 'it'): -0.3333333333333333,\n",
       " ('that', 'the'): -0.14285714285714285,\n",
       " ('the', 'Internet,'): 0.3333333333333333,\n",
       " ('the', 'car'): 0.3333333333333333,\n",
       " ('the', 'charger'): -0.3333333333333333,\n",
       " ('the', 'ear'): -0.1111111111111111,\n",
       " ('the', 'ear.'): 0.2,\n",
       " ('the', 'first'): -0.5,\n",
       " ('the', 'headset.'): -0.3333333333333333,\n",
       " ('the', 'new'): 0.3333333333333333,\n",
       " ('the', 'other'): -0.2,\n",
       " ('the', 'phone'): -0.391304347826087,\n",
       " ('the', 'phone.'): 0.2,\n",
       " ('the', 'price.'): 0.6666666666666666,\n",
       " ('the', 'quality'): 0.5,\n",
       " ('the', 'same'): -0.6666666666666666,\n",
       " ('the', 'screen'): 0.3333333333333333,\n",
       " ('the', 'sound'): 0.6923076923076923,\n",
       " ('the', 'two'): 0.3333333333333333,\n",
       " ('there', 'is'): -0.6666666666666666,\n",
       " ('think', 'it'): -0.3333333333333333,\n",
       " ('this', 'and'): -0.3333333333333333,\n",
       " ('this', 'case'): -0.3333333333333333,\n",
       " ('this', 'for'): -0.3333333333333333,\n",
       " ('this', 'headset.'): -0.3333333333333333,\n",
       " ('this', 'is'): 0.6,\n",
       " ('this', 'item'): -0.6666666666666666,\n",
       " ('this', 'item.'): 0.3333333333333333,\n",
       " ('this', 'one'): 0.5,\n",
       " ('this', 'phone'): -0.3333333333333333,\n",
       " ('this', 'phone.'): -0.2,\n",
       " ('this', 'product'): -0.1111111111111111,\n",
       " ('this', 'product.'): -0.2,\n",
       " ('this', 'to'): 0.3333333333333333,\n",
       " ('time', 'and'): 0.3333333333333333,\n",
       " ('to', 'a'): -0.3333333333333333,\n",
       " ('to', 'do'): -0.5,\n",
       " ('to', 'get'): -0.3333333333333333,\n",
       " ('to', 'my'): 0.7142857142857143,\n",
       " ('to', 'the'): 0.3333333333333333,\n",
       " ('to', 'use.'): 0.6,\n",
       " ('to', 'work'): -0.3333333333333333,\n",
       " ('turn', 'on'): -0.3333333333333333,\n",
       " ('up', 'to'): -0.3333333333333333,\n",
       " ('use', 'and'): 0.3333333333333333,\n",
       " ('use', 'the'): -0.6666666666666666,\n",
       " ('use', 'this'): -0.3333333333333333,\n",
       " ('used', 'to'): -0.3333333333333333,\n",
       " ('very', 'comfortable'): 0.5,\n",
       " ('very', 'well.'): 0.3333333333333333,\n",
       " ('was', 'a'): 0.14285714285714285,\n",
       " ('was', 'in'): 0.3333333333333333,\n",
       " ('was', 'not'): -0.6,\n",
       " ('was', 'so'): 0.3333333333333333,\n",
       " ('was', 'that'): 0.3333333333333333,\n",
       " ('was', 'very'): 0.3333333333333333,\n",
       " ('well', 'as'): 0.5,\n",
       " ('when', 'I'): -0.6666666666666666,\n",
       " ('when', 'you'): -0.3333333333333333,\n",
       " ('which', 'I'): -0.3333333333333333,\n",
       " ('which', 'is'): 0.2,\n",
       " ('while', 'it'): -0.3333333333333333,\n",
       " ('with', 'it'): -0.3333333333333333,\n",
       " ('with', 'it.'): 0.3333333333333333,\n",
       " ('with', 'my'): 0.15789473684210525,\n",
       " ('with', 'this'): 0.42857142857142855,\n",
       " ('you', 'are'): -0.2,\n",
       " ('you', 'can'): 0.6666666666666666,\n",
       " ('you', \"don't\"): 0.3333333333333333,\n",
       " ('you', 'have'): -0.5,\n",
       " ('your', 'ear'): 0.3333333333333333}"
      ]
     },
     "execution_count": 166,
     "metadata": {},
     "output_type": "execute_result"
    }
   ],
   "source": [
    "scoresBigrams"
   ]
  },
  {
   "cell_type": "code",
   "execution_count": 165,
   "metadata": {
    "collapsed": false
   },
   "outputs": [
    {
     "data": {
      "text/plain": [
       "{('I', 'bought', 'this'): 0.5,\n",
       " ('I', 'could', 'not'): -0.6,\n",
       " ('I', 'had', 'to'): -0.7142857142857143,\n",
       " ('I', 'have', 'ever'): 0.3333333333333333,\n",
       " ('I', 'have', 'to'): -0.3333333333333333,\n",
       " ('I', 'received', 'my'): 0.3333333333333333,\n",
       " (\"I've\", 'had', 'this'): -0.3333333333333333,\n",
       " ('The', 'battery', 'is'): -0.3333333333333333,\n",
       " ('The', 'sound', 'quality'): 0.3333333333333333,\n",
       " ('This', 'is', 'a'): 0.5555555555555556,\n",
       " ('and', 'it', 'was'): -0.5,\n",
       " ('and', 'the', 'sound'): 0.5,\n",
       " ('any', 'kind', 'of'): -0.3333333333333333,\n",
       " ('as', 'good', 'as'): 0.3333333333333333,\n",
       " ('as', 'well', 'as'): 0.3333333333333333,\n",
       " ('car', 'charger', 'and'): -0.3333333333333333,\n",
       " ('for', 'a', 'few'): 0.3333333333333333,\n",
       " ('for', 'the', 'price.'): 0.5,\n",
       " ('happy', 'with', 'this'): 0.3333333333333333,\n",
       " ('is', 'that', 'the'): -0.3333333333333333,\n",
       " ('it', 'for', 'a'): -0.3333333333333333,\n",
       " ('it', 'was', 'a'): 0.3333333333333333,\n",
       " ('on', 'and', 'off'): -0.3333333333333333,\n",
       " ('on', 'the', 'ear.'): -0.3333333333333333,\n",
       " ('on', 'the', 'phone.'): -0.3333333333333333,\n",
       " ('sound', 'quality', 'is'): 0.5,\n",
       " ('that', 'I', 'have'): -0.3333333333333333,\n",
       " ('that', 'it', 'is'): -0.3333333333333333,\n",
       " ('there', 'is', 'a'): -0.5,\n",
       " ('to', 'be', 'the'): -0.3333333333333333,\n",
       " ('to', 'use', 'and'): 0.3333333333333333,\n",
       " ('to', 'use', 'the'): -0.5}"
      ]
     },
     "execution_count": 165,
     "metadata": {},
     "output_type": "execute_result"
    }
   ],
   "source": [
    "scoresTrigrams"
   ]
  },
  {
   "cell_type": "code",
   "execution_count": null,
   "metadata": {
    "collapsed": true
   },
   "outputs": [],
   "source": []
  }
 ],
 "metadata": {
  "kernelspec": {
   "display_name": "Python 3",
   "language": "python",
   "name": "python3"
  },
  "language_info": {
   "codemirror_mode": {
    "name": "ipython",
    "version": 3
   },
   "file_extension": ".py",
   "mimetype": "text/x-python",
   "name": "python",
   "nbconvert_exporter": "python",
   "pygments_lexer": "ipython3",
   "version": "3.4.3"
  }
 },
 "nbformat": 4,
 "nbformat_minor": 0
}
