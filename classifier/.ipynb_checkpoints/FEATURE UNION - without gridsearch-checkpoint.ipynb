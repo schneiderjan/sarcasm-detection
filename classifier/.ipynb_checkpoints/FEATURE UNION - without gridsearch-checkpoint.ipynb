{
 "cells": [
  {
   "cell_type": "code",
   "execution_count": 2,
   "metadata": {
    "collapsed": true
   },
   "outputs": [],
   "source": [
    "import numpy as np\n",
    "import pandas as pd\n",
    "import sklearn\n",
    "import time\n",
    "from sklearn.pipeline import Pipeline\n",
    "from sklearn.feature_extraction.text import TfidfTransformer\n",
    "from sklearn.svm import LinearSVC\n",
    "from sklearn.feature_extraction.text import CountVectorizer\n",
    "from sklearn.multiclass import OneVsRestClassifier\n",
    "from pprint import pprint\n",
    "from sklearn import cross_validation\n",
    "from sklearn.cross_validation import train_test_split\n",
    "from sklearn.naive_bayes import MultinomialNB, GaussianNB,BernoulliNB\n",
    "from textblob.classifiers import NaiveBayesClassifier\n",
    "\n",
    "from sklearn.feature_selection import RFE\n",
    "from sklearn import metrics\n",
    "from sklearn.feature_selection import SelectKBest, chi2"
   ]
  },
  {
   "cell_type": "code",
   "execution_count": 3,
   "metadata": {
    "collapsed": false
   },
   "outputs": [],
   "source": [
    "# Properties\n",
    "py_file = \"LinearSCVResults.py\"\n",
    "date_file = \"data/tweets_all.csv\"\n",
    "start_time = time.time()\n",
    "testd_size = 0.35\n",
    "sarcastic_tweets = []\n",
    "normal_tweet = []\n",
    "stopNL = ['de', 'en', 'van', 'ik', 'te', 'dat', 'die', 'in', 'een', 'hij', 'het', 'zijn', 'is', 'was', 'op', 'aan', 'met', 'als', 'voor', 'had', 'er', 'maar', 'om', 'hem', 'dan', 'zou', 'of', 'wat', 'mijn', 'men', 'dit', 'zo', 'door', 'over', 'ze', 'zich', 'bij', 'ook', 'tot', 'je', 'mij', 'uit', 'der', 'daar', 'haar', 'naar', 'heb', 'hoe', 'heeft', 'hebben', 'deze', 'u', 'want', 'nog', 'zal', 'me', 'zij', 'nu', 'ge', 'geen', 'omdat', 'iets', 'worden', 'toch', 'al', 'waren', 'veel', 'meer', 'doen', 'toen', 'moet', 'ben', 'zonder', 'kan', 'hun', 'dus', 'alles', 'onder', 'ja', 'eens', 'hier', 'wie', 'werd', 'altijd', 'doch', 'wordt', 'wezen', 'kunnen', 'ons', 'zelf', 'tegen', 'na', 'reeds', 'wil', 'kon', 'niets', 'uw', 'iemand', 'geweest', 'andere']"
   ]
  },
  {
   "cell_type": "code",
   "execution_count": 4,
   "metadata": {
    "collapsed": false
   },
   "outputs": [
    {
     "name": "stdout",
     "output_type": "stream",
     "text": [
      "tweetID    0\n",
      "tweet      0\n",
      "target     0\n",
      "pos        0\n",
      "neu        0\n",
      "neg        0\n",
      "caps       0\n",
      "dtype: int64\n",
      "tweetID    0\n",
      "tweet      0\n",
      "target     0\n",
      "pos        0\n",
      "neu        0\n",
      "neg        0\n",
      "caps       0\n",
      "dtype: int64\n"
     ]
    }
   ],
   "source": [
    "# Read Data Set\n",
    "df = pd.read_csv(date_file, delimiter='|', encoding=\"utf-8\", quotechar='\"', header=None, names=['tweetID','tweet', 'target','pos','neu','neg','caps'])\n",
    "df = df.dropna()\n",
    "df.head()\n",
    "df[\"target\"] = df[\"target\"].convert_objects(convert_numeric=True)\n",
    "print(df.isnull().sum())\n",
    "df = df.dropna()\n",
    "\n",
    "df[\"target\"] = df[\"target\"].astype(int)\n",
    "print(df.isnull().sum())"
   ]
  },
  {
   "cell_type": "code",
   "execution_count": 49,
   "metadata": {
    "collapsed": false
   },
   "outputs": [
    {
     "data": {
      "text/html": [
       "<div>\n",
       "<table border=\"1\" class=\"dataframe\">\n",
       "  <thead>\n",
       "    <tr style=\"text-align: right;\">\n",
       "      <th></th>\n",
       "      <th>tweetID</th>\n",
       "      <th>tweet</th>\n",
       "      <th>target</th>\n",
       "      <th>pos</th>\n",
       "      <th>neu</th>\n",
       "      <th>neg</th>\n",
       "      <th>caps</th>\n",
       "    </tr>\n",
       "  </thead>\n",
       "  <tbody>\n",
       "    <tr>\n",
       "      <th>0</th>\n",
       "      <td>500370339566985216</td>\n",
       "      <td>Zo fijn die #PostNL beloofd eerst tm vanmorgen...</td>\n",
       "      <td>1</td>\n",
       "      <td>0.091</td>\n",
       "      <td>0.909</td>\n",
       "      <td>0.000</td>\n",
       "      <td>0</td>\n",
       "    </tr>\n",
       "    <tr>\n",
       "      <th>1</th>\n",
       "      <td>411900187649794048</td>\n",
       "      <td>Heel fijn Vast op Dordrecht geen treinverkeer ...</td>\n",
       "      <td>1</td>\n",
       "      <td>0.114</td>\n",
       "      <td>0.762</td>\n",
       "      <td>0.124</td>\n",
       "      <td>0</td>\n",
       "    </tr>\n",
       "    <tr>\n",
       "      <th>2</th>\n",
       "      <td>175627549802639361</td>\n",
       "      <td>echt geweldig blyk denk dat ik dan maar weer v...</td>\n",
       "      <td>1</td>\n",
       "      <td>0.186</td>\n",
       "      <td>0.814</td>\n",
       "      <td>0.000</td>\n",
       "      <td>0</td>\n",
       "    </tr>\n",
       "    <tr>\n",
       "      <th>3</th>\n",
       "      <td>321699315707936769</td>\n",
       "      <td>fijn een product hebben dat niet werkt #kpn</td>\n",
       "      <td>1</td>\n",
       "      <td>0.184</td>\n",
       "      <td>0.816</td>\n",
       "      <td>0.000</td>\n",
       "      <td>0</td>\n",
       "    </tr>\n",
       "    <tr>\n",
       "      <th>4</th>\n",
       "      <td>258575794601865217</td>\n",
       "      <td>lekker chatten met een medewerker van tmobile</td>\n",
       "      <td>1</td>\n",
       "      <td>0.327</td>\n",
       "      <td>0.673</td>\n",
       "      <td>0.000</td>\n",
       "      <td>0</td>\n",
       "    </tr>\n",
       "  </tbody>\n",
       "</table>\n",
       "</div>"
      ],
      "text/plain": [
       "              tweetID                                              tweet  \\\n",
       "0  500370339566985216  Zo fijn die #PostNL beloofd eerst tm vanmorgen...   \n",
       "1  411900187649794048  Heel fijn Vast op Dordrecht geen treinverkeer ...   \n",
       "2  175627549802639361  echt geweldig blyk denk dat ik dan maar weer v...   \n",
       "3  321699315707936769        fijn een product hebben dat niet werkt #kpn   \n",
       "4  258575794601865217     lekker chatten met een medewerker van tmobile    \n",
       "\n",
       "   target    pos    neu    neg  caps  \n",
       "0       1  0.091  0.909  0.000     0  \n",
       "1       1  0.114  0.762  0.124     0  \n",
       "2       1  0.186  0.814  0.000     0  \n",
       "3       1  0.184  0.816  0.000     0  \n",
       "4       1  0.327  0.673  0.000     0  "
      ]
     },
     "execution_count": 49,
     "metadata": {},
     "output_type": "execute_result"
    }
   ],
   "source": [
    "# df['f1'] = pd.Series(np.random.uniform(0,15,len(df)), index=df.index)\n",
    "df.head()"
   ]
  },
  {
   "cell_type": "code",
   "execution_count": 346,
   "metadata": {
    "collapsed": false
   },
   "outputs": [],
   "source": [
    "from sklearn import cross_validation\n",
    "X_train, X_test, y_train, y_test = cross_validation.train_test_split(df[['tweet','pos','neu','neg','caps']]\n",
    ", df['target'], test_size=0.25)"
   ]
  },
  {
   "cell_type": "code",
   "execution_count": 347,
   "metadata": {
    "collapsed": true
   },
   "outputs": [],
   "source": [
    "from sklearn.base import TransformerMixin\n",
    "class ColumnExtractor(TransformerMixin):\n",
    "\n",
    "    def __init__(self, columns=[]):\n",
    "        self.columns = columns\n",
    "\n",
    "    def fit_transform(self, X, y=None, **fit_params):\n",
    "        self.fit(X, y, **fit_params)\n",
    "        #print(self.transform(X))\n",
    "        return self.transform(X)\n",
    "\n",
    "    def transform(self, X, **transform_params):\n",
    "        #print(X[self.columns])\n",
    "        return X[self.columns]\n",
    "\n",
    "    def fit(self, X, y=None, **fit_params):\n",
    "        #print(self)\n",
    "        return self"
   ]
  },
  {
   "cell_type": "code",
   "execution_count": 348,
   "metadata": {
    "collapsed": true
   },
   "outputs": [],
   "source": [
    "class Reshaper(TransformerMixin):\n",
    "\n",
    "    def transform(self, X, y=None, **fit_params):\n",
    "        #print(X)\n",
    "        return X.reshape((len(X), 1))\n",
    "\n",
    "    def fit_transform(self, X, y=None, **fit_params):\n",
    "        self.fit(X, y, **fit_params)\n",
    "        #print(self.transform(X))\n",
    "        return self.transform(X)\n",
    "\n",
    "    def fit(self, X, y=None, **fit_params):\n",
    "        #print(self)\n",
    "        return self"
   ]
  },
  {
   "cell_type": "code",
   "execution_count": 349,
   "metadata": {
    "collapsed": false
   },
   "outputs": [
    {
     "data": {
      "text/plain": [
       "Pipeline(steps=[('features', FeatureUnion(n_jobs=1,\n",
       "       transformer_list=[('pos', Pipeline(steps=[('extract', <__main__.ColumnExtractor object at 0x0000000029D91940>), ('to_dense', <__main__.Reshaper object at 0x0000000029D91A58>)])), ('neu', Pipeline(steps=[('extract', <__main__.ColumnExtractor object at...  transformer_weights=None)), ('clf', MultinomialNB(alpha=1e-05, class_prior=None, fit_prior=True))])"
      ]
     },
     "execution_count": 349,
     "metadata": {},
     "output_type": "execute_result"
    }
   ],
   "source": [
    "from sklearn.pipeline import FeatureUnion\n",
    "from sklearn.preprocessing import OneHotEncoder\n",
    "from scikit_helpers.features import FeatureNamePipeline\n",
    "\n",
    "pipe = Pipeline([\n",
    "    ('features', FeatureUnion\n",
    "     ([      \n",
    "        ('pos', Pipeline([\n",
    "            ('extract', ColumnExtractor('pos')),\n",
    "            ('to_dense', Reshaper())\n",
    "        ])),\n",
    "        ('neu', Pipeline([\n",
    "            ('extract', ColumnExtractor('neu')),\n",
    "            ('to_dense', Reshaper())\n",
    "        ])),\n",
    "        ('neg', Pipeline([\n",
    "            ('extract', ColumnExtractor('neg')),\n",
    "            ('to_dense', Reshaper())\n",
    "        ])),\n",
    "#         ('caps', Pipeline([\n",
    "#             ('extract', ColumnExtractor('caps')),\n",
    "#             ('to_dense', Reshaper())\n",
    "#         ])),\n",
    "        ('tweet', Pipeline([\n",
    "            ('extract', ColumnExtractor('tweet')),\n",
    "            ('vect', CountVectorizer(ngram_range=(1, 3), max_df=0.3, min_df=0.0001, max_features=10000)),\n",
    "            ('tfidf', TfidfTransformer(sublinear_tf= True, use_idf=False)),\n",
    "            (\"kbest\", SelectKBest(chi2,k=700))\n",
    "            ]))      \n",
    "        ])),\n",
    "#         (\"kbest\", SelectKBest(chi2,k=600)),\n",
    "        ('clf', MultinomialNB(alpha=1e-05))])\n",
    "pipe.fit(X_train, y_train)"
   ]
  },
  {
   "cell_type": "code",
   "execution_count": 350,
   "metadata": {
    "collapsed": false
   },
   "outputs": [],
   "source": [
    "y_pred = pipe.predict(X_test)"
   ]
  },
  {
   "cell_type": "code",
   "execution_count": 351,
   "metadata": {
    "collapsed": false,
    "scrolled": true
   },
   "outputs": [
    {
     "name": "stdout",
     "output_type": "stream",
     "text": [
      "Precision: 0.679425837321\n",
      "Recall: 0.804532577904\n",
      "\n",
      "Confusion matrix: \n",
      "\n",
      "   S    -S\n",
      " S TP   FN\n",
      "-S FP   TN\n",
      "[[256 134]\n",
      " [ 69 284]]\n",
      "\n",
      "F1 score: 0.736705577173\n"
     ]
    }
   ],
   "source": [
    "from sklearn.metrics import recall_score, precision_score, confusion_matrix, f1_score, precision_recall_curve,average_precision_score\n",
    "\n",
    "recall = recall_score(y_test, y_pred)\n",
    "precision = precision_score(y_test, y_pred)\n",
    "confusion = confusion_matrix(y_test, y_pred, labels=None)\n",
    "f1 = f1_score(y_test, y_pred)\n",
    "\n",
    "print(\"Precision: \"+str(precision))\n",
    "print(\"Recall: \"+str(recall))\n",
    "print(\"\\nConfusion matrix: \")\n",
    "print(\"\\n   S    -S\")\n",
    "print(\" S TP   FN\")\n",
    "print(\"-S FP   TN\")\n",
    "print(confusion)\n",
    "print(\"\\nF1 score: \"+str(f1))"
   ]
  },
  {
   "cell_type": "code",
   "execution_count": 283,
   "metadata": {
    "collapsed": false,
    "scrolled": true
   },
   "outputs": [
    {
     "name": "stdout",
     "output_type": "stream",
     "text": [
      "[ 0.50336474  0.74045802  1.        ] [ 1.          0.77807487  0.        ] [0 1]\n",
      "0.815121084126\n"
     ]
    }
   ],
   "source": [
    "import matplotlib.pyplot as plt\n",
    "\n",
    "precision_curve, recall_curve, thresholds = precision_recall_curve(y_test, y_pred)\n",
    "precision_plot, recall_plot,_ = precision_recall_curve(y_test.ravel(), y_pred.ravel())\n",
    "print(precision_curve, recall_curve, thresholds)\n",
    "average_precision = average_precision_score(y_test.ravel(), y_pred.ravel())\n",
    "print(average_precision)\n",
    "\n",
    "plt.clf()\n",
    "plt.plot(recall_plot, precision_plot, label='Precision-Recall curve')\n",
    "plt.xlabel('Recall')\n",
    "plt.ylabel('Precision')\n",
    "plt.ylim([0.0, 1.05])\n",
    "plt.xlim([0.0, 1.0])\n",
    "plt.title('Precision-Recall example: AUC={0:0.2f}'.format(average_precision))\n",
    "plt.legend(loc=\"lower left\")\n",
    "plt.show()"
   ]
  },
  {
   "cell_type": "code",
   "execution_count": null,
   "metadata": {
    "collapsed": false
   },
   "outputs": [],
   "source": []
  },
  {
   "cell_type": "code",
   "execution_count": null,
   "metadata": {
    "collapsed": true
   },
   "outputs": [],
   "source": []
  }
 ],
 "metadata": {
  "kernelspec": {
   "display_name": "Python 3",
   "language": "python",
   "name": "python3"
  },
  "language_info": {
   "codemirror_mode": {
    "name": "ipython",
    "version": 3
   },
   "file_extension": ".py",
   "mimetype": "text/x-python",
   "name": "python",
   "nbconvert_exporter": "python",
   "pygments_lexer": "ipython3",
   "version": "3.4.3"
  }
 },
 "nbformat": 4,
 "nbformat_minor": 0
}
