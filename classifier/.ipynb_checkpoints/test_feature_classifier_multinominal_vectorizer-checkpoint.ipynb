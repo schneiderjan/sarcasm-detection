{
 "cells": [
  {
   "cell_type": "code",
   "execution_count": 1,
   "metadata": {
    "collapsed": false
   },
   "outputs": [],
   "source": [
    "import numpy as np\n",
    "import pandas as pd\n",
    "import sklearn\n",
    "import time\n",
    "from sklearn.pipeline import Pipeline\n",
    "from sklearn.feature_extraction.text import TfidfTransformer\n",
    "from sklearn.svm import LinearSVC\n",
    "from sklearn.feature_extraction.text import CountVectorizer\n",
    "from sklearn.multiclass import OneVsRestClassifier\n",
    "from pprint import pprint\n",
    "from sklearn import cross_validation\n",
    "from sklearn.cross_validation import train_test_split\n",
    "from sklearn.naive_bayes import MultinomialNB\n",
    "from sklearn.feature_selection import RFE\n",
    "from sklearn import metrics"
   ]
  },
  {
   "cell_type": "code",
   "execution_count": 2,
   "metadata": {
    "collapsed": true
   },
   "outputs": [],
   "source": [
    "# Properties\n",
    "py_file = \"LinearSCVResults.py\"\n",
    "date_file = \"data/dataset-4412-cleaned.csv\"\n",
    "start_time = time.time()\n",
    "testd_size = 0.35\n",
    "sarcastic_tweets = []\n",
    "normal_tweet = []\n",
    "\n",
    "X_train = []\n",
    "y_train = []\n",
    "X_test = []\n",
    "y_test = []"
   ]
  },
  {
   "cell_type": "code",
   "execution_count": 3,
   "metadata": {
    "collapsed": false
   },
   "outputs": [
    {
     "name": "stdout",
     "output_type": "stream",
     "text": [
      "Start Time  :  2015-12-07 11:02:02\n",
      "Python File :  LinearSCVResults.py\n",
      "Data File   :  data/dataset-4412-cleaned.csv\n",
      "Test Size   :  0.35\n"
     ]
    }
   ],
   "source": [
    "# Print Properties\n",
    "print(\"Start Time  : \",time.strftime(\"%Y-%m-%d %H:%M:%S\"))\n",
    "print(\"Python File : \",py_file)\n",
    "print(\"Data File   : \",date_file)\n",
    "print(\"Test Size   : \",testd_size)"
   ]
  },
  {
   "cell_type": "code",
   "execution_count": 31,
   "metadata": {
    "collapsed": false
   },
   "outputs": [
    {
     "name": "stdout",
     "output_type": "stream",
     "text": [
      "tweetID     0\n",
      "tweet       0\n",
      "target     10\n",
      "dtype: int64\n",
      "tweetID    0\n",
      "tweet      0\n",
      "target     0\n",
      "dtype: int64\n"
     ]
    },
    {
     "data": {
      "text/html": [
       "<div>\n",
       "<table border=\"1\" class=\"dataframe\">\n",
       "  <thead>\n",
       "    <tr style=\"text-align: right;\">\n",
       "      <th></th>\n",
       "      <th>tweetID</th>\n",
       "      <th>tweet</th>\n",
       "      <th>target</th>\n",
       "    </tr>\n",
       "  </thead>\n",
       "  <tbody>\n",
       "    <tr>\n",
       "      <th>0</th>\n",
       "      <td>270475999416819712</td>\n",
       "      <td>Geweldig werk Sandra! Deze homemade magneten z...</td>\n",
       "      <td>0</td>\n",
       "    </tr>\n",
       "    <tr>\n",
       "      <th>1</th>\n",
       "      <td>340482726610231296</td>\n",
       "      <td>Awel ik snap natuurlijk dat er veel factoren m...</td>\n",
       "      <td>0</td>\n",
       "    </tr>\n",
       "    <tr>\n",
       "      <th>2</th>\n",
       "      <td>305797553847406593</td>\n",
       "      <td>Dit weekend druk gehad met het keurig niets ze...</td>\n",
       "      <td>0</td>\n",
       "    </tr>\n",
       "    <tr>\n",
       "      <th>3</th>\n",
       "      <td>382202750257602560</td>\n",
       "      <td>Goed om te lezen Kees. Ik wens naast veel reis...</td>\n",
       "      <td>0</td>\n",
       "    </tr>\n",
       "    <tr>\n",
       "      <th>4</th>\n",
       "      <td>471366625405698048</td>\n",
       "      <td>dat moet als het goed is gewoon kunnen, je ben...</td>\n",
       "      <td>0</td>\n",
       "    </tr>\n",
       "  </tbody>\n",
       "</table>\n",
       "</div>"
      ],
      "text/plain": [
       "              tweetID                                              tweet  \\\n",
       "0  270475999416819712  Geweldig werk Sandra! Deze homemade magneten z...   \n",
       "1  340482726610231296  Awel ik snap natuurlijk dat er veel factoren m...   \n",
       "2  305797553847406593  Dit weekend druk gehad met het keurig niets ze...   \n",
       "3  382202750257602560  Goed om te lezen Kees. Ik wens naast veel reis...   \n",
       "4  471366625405698048  dat moet als het goed is gewoon kunnen, je ben...   \n",
       "\n",
       "   target  \n",
       "0       0  \n",
       "1       0  \n",
       "2       0  \n",
       "3       0  \n",
       "4       0  "
      ]
     },
     "execution_count": 31,
     "metadata": {},
     "output_type": "execute_result"
    }
   ],
   "source": [
    "# Read Data Set\n",
    "df = pd.read_csv(date_file, delimiter='|', encoding=\"utf-8\", quotechar='\"', header=None, names=['tweetID','tweet', 'target'])\n",
    "df = df.dropna()\n",
    "df.head()\n",
    "df[\"target\"] = df[\"target\"].convert_objects(convert_numeric=True)\n",
    "print(df.isnull().sum())\n",
    "df = df.dropna()\n",
    "\n",
    "df[\"target\"] = df[\"target\"].astype(int)\n",
    "print(df.isnull().sum())\n",
    "df.head()\n"
   ]
  },
  {
   "cell_type": "code",
   "execution_count": 32,
   "metadata": {
    "collapsed": false
   },
   "outputs": [
    {
     "data": {
      "text/html": [
       "<div>\n",
       "<table border=\"1\" class=\"dataframe\">\n",
       "  <thead>\n",
       "    <tr style=\"text-align: right;\">\n",
       "      <th></th>\n",
       "      <th>tweetID</th>\n",
       "      <th>tweet</th>\n",
       "      <th>target</th>\n",
       "      <th>f1</th>\n",
       "    </tr>\n",
       "  </thead>\n",
       "  <tbody>\n",
       "    <tr>\n",
       "      <th>0</th>\n",
       "      <td>270475999416819712</td>\n",
       "      <td>Geweldig werk Sandra! Deze homemade magneten z...</td>\n",
       "      <td>0</td>\n",
       "      <td>0.174997</td>\n",
       "    </tr>\n",
       "    <tr>\n",
       "      <th>1</th>\n",
       "      <td>340482726610231296</td>\n",
       "      <td>Awel ik snap natuurlijk dat er veel factoren m...</td>\n",
       "      <td>0</td>\n",
       "      <td>0.922084</td>\n",
       "    </tr>\n",
       "    <tr>\n",
       "      <th>2</th>\n",
       "      <td>305797553847406593</td>\n",
       "      <td>Dit weekend druk gehad met het keurig niets ze...</td>\n",
       "      <td>0</td>\n",
       "      <td>0.709010</td>\n",
       "    </tr>\n",
       "    <tr>\n",
       "      <th>3</th>\n",
       "      <td>382202750257602560</td>\n",
       "      <td>Goed om te lezen Kees. Ik wens naast veel reis...</td>\n",
       "      <td>0</td>\n",
       "      <td>0.713315</td>\n",
       "    </tr>\n",
       "    <tr>\n",
       "      <th>4</th>\n",
       "      <td>471366625405698048</td>\n",
       "      <td>dat moet als het goed is gewoon kunnen, je ben...</td>\n",
       "      <td>0</td>\n",
       "      <td>0.217185</td>\n",
       "    </tr>\n",
       "    <tr>\n",
       "      <th>5</th>\n",
       "      <td>373177549553418240</td>\n",
       "      <td>Wow optie is al uitgeoefend door de pref stich...</td>\n",
       "      <td>0</td>\n",
       "      <td>0.974307</td>\n",
       "    </tr>\n",
       "    <tr>\n",
       "      <th>6</th>\n",
       "      <td>530291393374486528</td>\n",
       "      <td>neem aan van wel. Bijna thuis. Bedankt voor ju...</td>\n",
       "      <td>0</td>\n",
       "      <td>0.392198</td>\n",
       "    </tr>\n",
       "    <tr>\n",
       "      <th>7</th>\n",
       "      <td>185704621254246401</td>\n",
       "      <td>walla kbel vodafone he en op einde van gesprek...</td>\n",
       "      <td>0</td>\n",
       "      <td>0.839592</td>\n",
       "    </tr>\n",
       "    <tr>\n",
       "      <th>8</th>\n",
       "      <td>177056957440593920</td>\n",
       "      <td>Ik krijg een sms van vodafone 'van harte gefel...</td>\n",
       "      <td>0</td>\n",
       "      <td>0.824373</td>\n",
       "    </tr>\n",
       "    <tr>\n",
       "      <th>9</th>\n",
       "      <td>215710081633886209</td>\n",
       "      <td>Fijn joh als het personeel zelf in de stilteco...</td>\n",
       "      <td>1</td>\n",
       "      <td>0.880268</td>\n",
       "    </tr>\n",
       "    <tr>\n",
       "      <th>10</th>\n",
       "      <td>426434682914234368</td>\n",
       "      <td>KPN moest 30 miljoen betalen wegens benadelen ...</td>\n",
       "      <td>0</td>\n",
       "      <td>0.050519</td>\n",
       "    </tr>\n",
       "    <tr>\n",
       "      <th>11</th>\n",
       "      <td>501318776101830656</td>\n",
       "      <td>Blackberry Curve 8520 White White, Bel-SMS-Web...</td>\n",
       "      <td>0</td>\n",
       "      <td>0.403197</td>\n",
       "    </tr>\n",
       "    <tr>\n",
       "      <th>12</th>\n",
       "      <td>207571769358434306</td>\n",
       "      <td>Nou geweldig, en bedankt KPN ik denk nog ff ro...</td>\n",
       "      <td>1</td>\n",
       "      <td>0.269079</td>\n",
       "    </tr>\n",
       "    <tr>\n",
       "      <th>13</th>\n",
       "      <td>503815946688299009</td>\n",
       "      <td>We mogen weer eens wachten voor Utrecht. Plann...</td>\n",
       "      <td>0</td>\n",
       "      <td>0.861368</td>\n",
       "    </tr>\n",
       "    <tr>\n",
       "      <th>14</th>\n",
       "      <td>331876875196571648</td>\n",
       "      <td>Beetje tv en beetje KPN Digitaal op mn mobiel ...</td>\n",
       "      <td>0</td>\n",
       "      <td>0.381965</td>\n",
       "    </tr>\n",
       "    <tr>\n",
       "      <th>15</th>\n",
       "      <td>286944963604914176</td>\n",
       "      <td>Geweldig!!!! Kpn alles in 1. Zit je midden in ...</td>\n",
       "      <td>1</td>\n",
       "      <td>0.996665</td>\n",
       "    </tr>\n",
       "    <tr>\n",
       "      <th>16</th>\n",
       "      <td>218813547910664192</td>\n",
       "      <td>hey ja.. Ik had gister de klanten service gebe...</td>\n",
       "      <td>0</td>\n",
       "      <td>0.943729</td>\n",
       "    </tr>\n",
       "    <tr>\n",
       "      <th>17</th>\n",
       "      <td>427136207064412160</td>\n",
       "      <td>komen er ook weer ns nieuwe afleveringen? Dit ...</td>\n",
       "      <td>0</td>\n",
       "      <td>0.904309</td>\n",
       "    </tr>\n",
       "    <tr>\n",
       "      <th>18</th>\n",
       "      <td>216432887036248065</td>\n",
       "      <td>Motte weeres met de trein istie stuk. Heel fij...</td>\n",
       "      <td>1</td>\n",
       "      <td>0.730883</td>\n",
       "    </tr>\n",
       "    <tr>\n",
       "      <th>19</th>\n",
       "      <td>364387174096973824</td>\n",
       "      <td>Verkoop KPN-dochter E-Plus niet zonder slag of...</td>\n",
       "      <td>0</td>\n",
       "      <td>0.806127</td>\n",
       "    </tr>\n",
       "  </tbody>\n",
       "</table>\n",
       "</div>"
      ],
      "text/plain": [
       "               tweetID                                              tweet  \\\n",
       "0   270475999416819712  Geweldig werk Sandra! Deze homemade magneten z...   \n",
       "1   340482726610231296  Awel ik snap natuurlijk dat er veel factoren m...   \n",
       "2   305797553847406593  Dit weekend druk gehad met het keurig niets ze...   \n",
       "3   382202750257602560  Goed om te lezen Kees. Ik wens naast veel reis...   \n",
       "4   471366625405698048  dat moet als het goed is gewoon kunnen, je ben...   \n",
       "5   373177549553418240  Wow optie is al uitgeoefend door de pref stich...   \n",
       "6   530291393374486528  neem aan van wel. Bijna thuis. Bedankt voor ju...   \n",
       "7   185704621254246401  walla kbel vodafone he en op einde van gesprek...   \n",
       "8   177056957440593920  Ik krijg een sms van vodafone 'van harte gefel...   \n",
       "9   215710081633886209  Fijn joh als het personeel zelf in de stilteco...   \n",
       "10  426434682914234368  KPN moest 30 miljoen betalen wegens benadelen ...   \n",
       "11  501318776101830656  Blackberry Curve 8520 White White, Bel-SMS-Web...   \n",
       "12  207571769358434306  Nou geweldig, en bedankt KPN ik denk nog ff ro...   \n",
       "13  503815946688299009  We mogen weer eens wachten voor Utrecht. Plann...   \n",
       "14  331876875196571648  Beetje tv en beetje KPN Digitaal op mn mobiel ...   \n",
       "15  286944963604914176  Geweldig!!!! Kpn alles in 1. Zit je midden in ...   \n",
       "16  218813547910664192  hey ja.. Ik had gister de klanten service gebe...   \n",
       "17  427136207064412160  komen er ook weer ns nieuwe afleveringen? Dit ...   \n",
       "18  216432887036248065  Motte weeres met de trein istie stuk. Heel fij...   \n",
       "19  364387174096973824  Verkoop KPN-dochter E-Plus niet zonder slag of...   \n",
       "\n",
       "    target        f1  \n",
       "0        0  0.174997  \n",
       "1        0  0.922084  \n",
       "2        0  0.709010  \n",
       "3        0  0.713315  \n",
       "4        0  0.217185  \n",
       "5        0  0.974307  \n",
       "6        0  0.392198  \n",
       "7        0  0.839592  \n",
       "8        0  0.824373  \n",
       "9        1  0.880268  \n",
       "10       0  0.050519  \n",
       "11       0  0.403197  \n",
       "12       1  0.269079  \n",
       "13       0  0.861368  \n",
       "14       0  0.381965  \n",
       "15       1  0.996665  \n",
       "16       0  0.943729  \n",
       "17       0  0.904309  \n",
       "18       1  0.730883  \n",
       "19       0  0.806127  "
      ]
     },
     "execution_count": 32,
     "metadata": {},
     "output_type": "execute_result"
    }
   ],
   "source": [
    "df['f1'] = pd.Series(np.random.uniform(0,1,len(df)), index=df.index)\n",
    "df.head(20)"
   ]
  },
  {
   "cell_type": "code",
   "execution_count": 33,
   "metadata": {
    "collapsed": false
   },
   "outputs": [],
   "source": [
    "# # Read Data Set\n",
    "# for row in df.itertuples():\n",
    "# #     print(row[2])\n",
    "#     if row[3] == 1:\n",
    "#         sarcastic_tweets.append(row[2])\n",
    "#     else:\n",
    "#         normal_tweet.append(row[2])\n",
    "\n",
    "# c1 = 1;\n",
    "# for tweet in sarcastic_tweets:\n",
    "# \tif c1 < round((1-testd_size) * len(sarcastic_tweets)):\n",
    "# \t\tX_train.append(tweet)\n",
    "# \t\ty_train.append(int(1))\n",
    "# \telse :\n",
    "# \t\tX_test.append(tweet)\n",
    "# \t\ty_test.append(int(1))\n",
    "# \tc1 = c1 + 1\n",
    "\t\n",
    "# c2 = 1;\n",
    "# for tweet in normal_tweet:\n",
    "# \tif c2 < round((1-testd_size) * len(normal_tweet)):\n",
    "# \t\tX_train.append(tweet)\n",
    "# \t\ty_train.append(int(0))\n",
    "# \telse :\n",
    "# \t\tX_test.append(tweet)\n",
    "# \t\ty_test.append(int(0))\n",
    "# \tc2 = c2 + 1"
   ]
  },
  {
   "cell_type": "code",
   "execution_count": 38,
   "metadata": {
    "collapsed": false
   },
   "outputs": [],
   "source": [
    "from sklearn import cross_validation\n",
    "X_train, X_test, y_train, y_test = cross_validation.train_test_split(df['tweet']\n",
    ", df['target'], test_size=0.25, random_state=0)"
   ]
  },
  {
   "cell_type": "code",
   "execution_count": 40,
   "metadata": {
    "collapsed": false
   },
   "outputs": [
    {
     "name": "stdout",
     "output_type": "stream",
     "text": [
      "\n",
      "Tweets Train Set :  3127\n",
      "Tweets Test  Set :  1043\n"
     ]
    }
   ],
   "source": [
    "# Create Train and Test Set\n",
    "print(\"\\nTweets Train Set : \",len(X_train))\n",
    "print(\"Tweets Test  Set : \",len(X_test))"
   ]
  },
  {
   "cell_type": "code",
   "execution_count": 42,
   "metadata": {
    "collapsed": false
   },
   "outputs": [
    {
     "ename": "NameError",
     "evalue": "name 'FeatureUnion' is not defined",
     "output_type": "error",
     "traceback": [
      "\u001b[1;31m---------------------------------------------------------------------------\u001b[0m",
      "\u001b[1;31mNameError\u001b[0m                                 Traceback (most recent call last)",
      "\u001b[1;32m<ipython-input-42-d28ca046a76b>\u001b[0m in \u001b[0;36m<module>\u001b[1;34m()\u001b[0m\n\u001b[0;32m      8\u001b[0m \u001b[1;33m\u001b[0m\u001b[0m\n\u001b[0;32m      9\u001b[0m pipeline = Pipeline([\n\u001b[1;32m---> 10\u001b[1;33m     ('features', FeatureUnion([\n\u001b[0m\u001b[0;32m     11\u001b[0m         ('continuous', Pipeline([\n\u001b[0;32m     12\u001b[0m             \u001b[1;33m(\u001b[0m\u001b[1;34m'extract'\u001b[0m\u001b[1;33m,\u001b[0m \u001b[0mColumnExtractor\u001b[0m\u001b[1;33m(\u001b[0m\u001b[0mCONTINUOUS_FIELDS\u001b[0m\u001b[1;33m)\u001b[0m\u001b[1;33m)\u001b[0m\u001b[1;33m,\u001b[0m\u001b[1;33m\u001b[0m\u001b[0m\n",
      "\u001b[1;31mNameError\u001b[0m: name 'FeatureUnion' is not defined"
     ]
    }
   ],
   "source": [
    "# Classifier\n",
    "\n",
    "pipe = Pipeline([\n",
    "    ('vect', CountVectorizer()),\n",
    "    ('tfidf', TfidfTransformer()),\n",
    "    ('clf', MultinomialNB())\n",
    "])\n",
    "\n",
    "pipeline = Pipeline([\n",
    "    ('features', FeatureUnion([\n",
    "        ('continuous', Pipeline([\n",
    "            ('extract', ColumnExtractor(CONTINUOUS_FIELDS)),\n",
    "            ('scale', Normalizer())\n",
    "        ])),('pos', Pipeline([\n",
    "            ('datetime', PosTransformer(['datetime'])),\n",
    "            ('vect', CountVectorizer()),\n",
    "            ('tfidf', TfidfTransformer())\n",
    "        ]))\n",
    "                ])),\n",
    "        ('clf', MultinomialNB())])\n",
    "\n",
    "parameters = {'vect__ngram_range': ((1, 3), (2, 3), (1, 2)), \n",
    "              'vect__max_df': (0.3, 0.35, 0.4, 0.45, 0.5, 0.55, 0.6, 0.7),\n",
    "#               'vect__min_df': (0.1,0.25,0.5,0.75, 1.0),\n",
    "              'tfidf__use_idf': (True, False),\n",
    "              'tfidf__sublinear_tf': (True, False),\n",
    "              'clf__alpha': (0.00001, 0.000001),}\n",
    "\n",
    "# pipe.fit(X_train, y_train)\n",
    "# y_pred = pipe.predict(X_test)"
   ]
  },
  {
   "cell_type": "markdown",
   "metadata": {},
   "source": [
    "# Grid Search"
   ]
  },
  {
   "cell_type": "code",
   "execution_count": null,
   "metadata": {
    "collapsed": false
   },
   "outputs": [],
   "source": [
    "from sklearn.grid_search import GridSearchCV\n",
    "\n",
    "grid_search = GridSearchCV(pipe,parameters,n_jobs=2)\n",
    "grid_search.fit(X_train, y_train)\n",
    "\n",
    "print(grid_search.best_estimator_)"
   ]
  },
  {
   "cell_type": "code",
   "execution_count": null,
   "metadata": {
    "collapsed": false
   },
   "outputs": [],
   "source": [
    "best_params =grid_search.best_estimator_.get_params(deep=True)\n",
    "for param_name in sorted(parameters.keys()):\n",
    "        print(\"\\t%s: %r\" % (param_name, best_params[param_name]))"
   ]
  },
  {
   "cell_type": "code",
   "execution_count": null,
   "metadata": {
    "collapsed": false
   },
   "outputs": [],
   "source": [
    "y_pred_grid = grid_search.best_estimator_.predict(X_test)"
   ]
  },
  {
   "cell_type": "code",
   "execution_count": null,
   "metadata": {
    "collapsed": false
   },
   "outputs": [],
   "source": [
    "print(\"Best score: %0.3f\" % grid_search.best_score_)"
   ]
  },
  {
   "cell_type": "markdown",
   "metadata": {
    "collapsed": false
   },
   "source": [
    "# RFE"
   ]
  },
  {
   "cell_type": "code",
   "execution_count": null,
   "metadata": {
    "collapsed": false,
    "scrolled": true
   },
   "outputs": [],
   "source": [
    "# create the RFE model and select 3 attributes\n",
    "count_vect=pipe.named_steps['vect']\n",
    "X_train_counts = count_vect.fit_transform(X_train)\n",
    "X_train_counts.shape\n",
    "rfe = RFE(pipe.named_steps['clf'] ,n_features_to_select=1000, step=1, verbose=0)\n",
    "rfe = rfe.fit(X_train_counts, y_train)"
   ]
  },
  {
   "cell_type": "code",
   "execution_count": null,
   "metadata": {
    "collapsed": false
   },
   "outputs": [],
   "source": [
    "# summarize the selection of the attributes\n",
    "print(rfe.support_)\n",
    "print(rfe.ranking_)"
   ]
  },
  {
   "cell_type": "code",
   "execution_count": null,
   "metadata": {
    "collapsed": false,
    "scrolled": false
   },
   "outputs": [],
   "source": [
    "# for i,j in sorted(zip(rfe.ranking_,rfe.support_)):\n",
    "#     print (i,j)"
   ]
  },
  {
   "cell_type": "code",
   "execution_count": null,
   "metadata": {
    "collapsed": false
   },
   "outputs": [],
   "source": [
    "print(\"Tweets Test  Set : \",len(X_test))"
   ]
  },
  {
   "cell_type": "code",
   "execution_count": null,
   "metadata": {
    "collapsed": false
   },
   "outputs": [],
   "source": [
    "from sklearn.metrics import recall_score, precision_score, confusion_matrix, f1_score, precision_recall_curve,average_precision_score\n",
    "\n",
    "recall = recall_score(y_test, y_pred_grid)\n",
    "precision = precision_score(y_test, y_pred_grid)\n",
    "confusion = confusion_matrix(y_test, y_pred_grid, labels=None)\n",
    "f1 = f1_score(y_test, y_pred_grid)\n",
    "\n",
    "print(\"Precision: \"+str(precision))\n",
    "print(\"Recall: \"+str(recall))\n",
    "print(\"\\nConfusion matrix: \")\n",
    "print(confusion)\n",
    "print(\"\\nF1 score: \"+str(f1))"
   ]
  },
  {
   "cell_type": "code",
   "execution_count": null,
   "metadata": {
    "collapsed": false
   },
   "outputs": [],
   "source": [
    "import matplotlib.pyplot as plt\n",
    "\n",
    "precision_curve, recall_curve, thresholds = precision_recall_curve(y_test, y_pred_grid)\n",
    "precision_plot, recall_plot,_ = precision_recall_curve(y_test.ravel(), y_pred_grid.ravel())\n",
    "print(precision_curve, recall_curve, thresholds)\n",
    "average_precision = average_precision_score(y_test.ravel(), y_pred_grid.ravel())\n",
    "print(average_precision)\n",
    "\n",
    "# Plot Precision-Recall curve\n",
    "plt.clf()\n",
    "plt.plot(recall_plot, precision_plot, label='Precision-Recall curve')\n",
    "plt.xlabel('Recall')\n",
    "plt.ylabel('Precision')\n",
    "plt.ylim([0.0, 1.05])\n",
    "plt.xlim([0.0, 1.0])\n",
    "plt.title('Precision-Recall example: AUC={0:0.2f}'.format(average_precision))\n",
    "plt.legend(loc=\"lower left\")\n",
    "plt.show()"
   ]
  },
  {
   "cell_type": "code",
   "execution_count": null,
   "metadata": {
    "collapsed": false
   },
   "outputs": [],
   "source": [
    "# c = 0\n",
    "# # count = 0\n",
    "# # count1 = 0\n",
    "# FP = 0\n",
    "# TN = 0\n",
    "# TP = 0\n",
    "# FN = 0\n",
    "# precisionarray=[]\n",
    "# recallarray=[]\n",
    "# # accuracycount=0\n",
    "# ifcount=1\n",
    "# for item, labels in zip(X_test, y_pred):\n",
    "# # \t\taccuracycount+=1\n",
    "#     if np.asarray(y_test[c]) != np.asarray(y_pred[c]):\n",
    "#         if np.asarray(y_test[c]) > np.asarray(y_pred[c]):\n",
    "#             FN+=1\n",
    "#         else:\n",
    "#             FP+=1\n",
    "#     else:\n",
    "#         if np.asarray(y_test[c]) == 1:\n",
    "#             TP+=1\n",
    "#         else:\n",
    "#             TN+=1\n",
    "#     c+=1\n",
    "#     ifcount+=1\n",
    "    \n",
    "# # precision = (TP/(TP+FP))\n",
    "# precisionarray.append(precision)\n",
    "# recall = (TP/(TP+FN))\n",
    "# recallarray.append(recall)"
   ]
  },
  {
   "cell_type": "code",
   "execution_count": null,
   "metadata": {
    "collapsed": false
   },
   "outputs": [],
   "source": [
    "vectorizer = grid_search.best_estimator_.named_steps['vect'].get_params(deep=True)"
   ]
  },
  {
   "cell_type": "code",
   "execution_count": null,
   "metadata": {
    "collapsed": false
   },
   "outputs": [],
   "source": [
    "vectorizer"
   ]
  },
  {
   "cell_type": "code",
   "execution_count": null,
   "metadata": {
    "collapsed": false
   },
   "outputs": [],
   "source": [
    "# print(\"\\nPrediction : %d wrong from %d\" %(count, len(y_test)))\n",
    "# print(\"False positive: %d\" % (FP))\n",
    "# print(\"True negative: %d\" % (TN))\n",
    "# print(\"False negative: %d\" % (FN))\n",
    "# print(\"True positive: %d\" % (TP))\n",
    "# accuracy_test1 = (len(X_test)-count)/len(X_test)\n",
    "# print(\"Accuracy   :\", (accuracy_test1), \"\\n\")\n",
    "# precision = (TP/(TP+FP))\n",
    "# print(\"Precision   :\", (precision), \"\\n\")\n",
    "# recall = (TP/(TP+FN))\n",
    "# print(\"Recall   :\", (recall), \"\\n\")\n",
    "# print(precisionarray)\n",
    "# print(recallarray)"
   ]
  },
  {
   "cell_type": "code",
   "execution_count": null,
   "metadata": {
    "collapsed": false
   },
   "outputs": [],
   "source": [
    "# Labels\n",
    "target_names = [1,0]"
   ]
  },
  {
   "cell_type": "code",
   "execution_count": null,
   "metadata": {
    "collapsed": true
   },
   "outputs": [],
   "source": [
    "# Test Set\n",
    "X_test1 = np.array(['Gotta love #ns #sarcasm, wat een klote begin van de dag.',\n",
    "                   'Gotta love ns sarcasm, wat een klote begin van de dag.',\n",
    "                   'Gotta love ns, wat een klote begin van de dag.',\n",
    "                   'Helaas mijn overstap in Eindhoven niet gehaald',\n",
    "                   'Vertraging maar dan in je voordeel',\n",
    "                   'Ik ga so meteen naar huis vanuit school',\n",
    "                   'weer bezig'])"
   ]
  },
  {
   "cell_type": "code",
   "execution_count": null,
   "metadata": {
    "collapsed": false
   },
   "outputs": [],
   "source": [
    "predicted1 = pipe.predict(X_test1)\n",
    "\n",
    "for item, labels in zip(X_test1, predicted1):\n",
    "    print(item, '-', target_name[labels])"
   ]
  },
  {
   "cell_type": "code",
   "execution_count": null,
   "metadata": {
    "collapsed": false
   },
   "outputs": [],
   "source": [
    "print(\"\\nTotal Time : %s Seconds\" % (time.time() - start_time))"
   ]
  },
  {
   "cell_type": "code",
   "execution_count": null,
   "metadata": {
    "collapsed": true
   },
   "outputs": [],
   "source": []
  },
  {
   "cell_type": "code",
   "execution_count": null,
   "metadata": {
    "collapsed": true
   },
   "outputs": [],
   "source": []
  }
 ],
 "metadata": {
  "kernelspec": {
   "display_name": "Python 3",
   "language": "python",
   "name": "python3"
  },
  "language_info": {
   "codemirror_mode": {
    "name": "ipython",
    "version": 3
   },
   "file_extension": ".py",
   "mimetype": "text/x-python",
   "name": "python",
   "nbconvert_exporter": "python",
   "pygments_lexer": "ipython3",
   "version": "3.4.3"
  }
 },
 "nbformat": 4,
 "nbformat_minor": 0
}
