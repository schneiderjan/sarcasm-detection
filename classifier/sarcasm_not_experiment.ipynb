{
 "cells": [
  {
   "cell_type": "markdown",
   "metadata": {},
   "source": [
    "# Sarcasm classification: BernoulliNB"
   ]
  },
  {
   "cell_type": "markdown",
   "metadata": {},
   "source": [
    "Import all needed libraries"
   ]
  },
  {
   "cell_type": "code",
   "execution_count": 1,
   "metadata": {
    "collapsed": true
   },
   "outputs": [],
   "source": [
    "import numpy as np\n",
    "import pandas as pd\n",
    "import matplotlib.pyplot as plt\n",
    "import sklearn\n",
    "\n",
    "from sklearn.metrics import recall_score, precision_score, confusion_matrix, f1_score, precision_recall_curve,average_precision_score"
   ]
  },
  {
   "cell_type": "markdown",
   "metadata": {},
   "source": [
    "Set properties for reading dataset."
   ]
  },
  {
   "cell_type": "code",
   "execution_count": 2,
   "metadata": {
    "collapsed": false
   },
   "outputs": [],
   "source": [
    "date_file = \"data/tweets_all.csv\"\n",
    "names=['tweetID','tweet', 'target','pos','neu','neg','caps']"
   ]
  },
  {
   "cell_type": "code",
   "execution_count": 3,
   "metadata": {
    "collapsed": false
   },
   "outputs": [],
   "source": [
    "df = pd.read_csv(date_file, delimiter='|', encoding=\"utf-8\", quotechar='\"', header=None, names=names)"
   ]
  },
  {
   "cell_type": "markdown",
   "metadata": {},
   "source": [
    "Remove and convert objects to numeric values and drop NA's (only around 10 are being dropped)."
   ]
  },
  {
   "cell_type": "code",
   "execution_count": 4,
   "metadata": {
    "collapsed": false
   },
   "outputs": [
    {
     "data": {
      "text/html": [
       "<div>\n",
       "<table border=\"1\" class=\"dataframe\">\n",
       "  <thead>\n",
       "    <tr style=\"text-align: right;\">\n",
       "      <th></th>\n",
       "      <th>tweetID</th>\n",
       "      <th>tweet</th>\n",
       "      <th>target</th>\n",
       "      <th>pos</th>\n",
       "      <th>neu</th>\n",
       "      <th>neg</th>\n",
       "      <th>caps</th>\n",
       "    </tr>\n",
       "  </thead>\n",
       "  <tbody>\n",
       "    <tr>\n",
       "      <th>0</th>\n",
       "      <td>500370339566985216</td>\n",
       "      <td>Zo fijn die #PostNL beloofd eerst tm vanmorgen...</td>\n",
       "      <td>1</td>\n",
       "      <td>0.091</td>\n",
       "      <td>0.909</td>\n",
       "      <td>0.000</td>\n",
       "      <td>0</td>\n",
       "    </tr>\n",
       "    <tr>\n",
       "      <th>1</th>\n",
       "      <td>411900187649794048</td>\n",
       "      <td>Heel fijn Vast op Dordrecht geen treinverkeer ...</td>\n",
       "      <td>1</td>\n",
       "      <td>0.114</td>\n",
       "      <td>0.762</td>\n",
       "      <td>0.124</td>\n",
       "      <td>0</td>\n",
       "    </tr>\n",
       "    <tr>\n",
       "      <th>2</th>\n",
       "      <td>175627549802639361</td>\n",
       "      <td>echt geweldig blyk denk dat ik dan maar weer v...</td>\n",
       "      <td>1</td>\n",
       "      <td>0.186</td>\n",
       "      <td>0.814</td>\n",
       "      <td>0.000</td>\n",
       "      <td>0</td>\n",
       "    </tr>\n",
       "    <tr>\n",
       "      <th>3</th>\n",
       "      <td>321699315707936769</td>\n",
       "      <td>fijn een product hebben dat niet werkt #kpn</td>\n",
       "      <td>1</td>\n",
       "      <td>0.184</td>\n",
       "      <td>0.816</td>\n",
       "      <td>0.000</td>\n",
       "      <td>0</td>\n",
       "    </tr>\n",
       "    <tr>\n",
       "      <th>4</th>\n",
       "      <td>258575794601865217</td>\n",
       "      <td>lekker chatten met een medewerker van tmobile</td>\n",
       "      <td>1</td>\n",
       "      <td>0.327</td>\n",
       "      <td>0.673</td>\n",
       "      <td>0.000</td>\n",
       "      <td>0</td>\n",
       "    </tr>\n",
       "  </tbody>\n",
       "</table>\n",
       "</div>"
      ],
      "text/plain": [
       "              tweetID                                              tweet  \\\n",
       "0  500370339566985216  Zo fijn die #PostNL beloofd eerst tm vanmorgen...   \n",
       "1  411900187649794048  Heel fijn Vast op Dordrecht geen treinverkeer ...   \n",
       "2  175627549802639361  echt geweldig blyk denk dat ik dan maar weer v...   \n",
       "3  321699315707936769        fijn een product hebben dat niet werkt #kpn   \n",
       "4  258575794601865217     lekker chatten met een medewerker van tmobile    \n",
       "\n",
       "   target    pos    neu    neg  caps  \n",
       "0       1  0.091  0.909  0.000     0  \n",
       "1       1  0.114  0.762  0.124     0  \n",
       "2       1  0.186  0.814  0.000     0  \n",
       "3       1  0.184  0.816  0.000     0  \n",
       "4       1  0.327  0.673  0.000     0  "
      ]
     },
     "execution_count": 4,
     "metadata": {},
     "output_type": "execute_result"
    }
   ],
   "source": [
    "df = df.dropna()\n",
    "df[\"target\"] = df[\"target\"].convert_objects(convert_numeric=True)\n",
    "\n",
    "df = df.dropna()\n",
    "df[\"target\"] = df[\"target\"].astype(int)\n",
    "\n",
    "df.head()"
   ]
  },
  {
   "cell_type": "code",
   "execution_count": 5,
   "metadata": {
    "collapsed": false
   },
   "outputs": [],
   "source": [
    "tweets = df[\"tweet\"].tolist()\n",
    "labels = df[\"target\"].tolist()"
   ]
  },
  {
   "cell_type": "code",
   "execution_count": 6,
   "metadata": {
    "collapsed": false
   },
   "outputs": [],
   "source": [
    "y=[]\n",
    "not_ = [\"#not\", \"#sarcasm\", \"#sarcasme\"]\n",
    "sar = \"#sarcasm\"\n",
    "\n",
    "for tweet in tweets:\n",
    "    if any(s in tweet for s in not_):\n",
    "        y.append(1)\n",
    "    else:\n",
    "        y.append(0)"
   ]
  },
  {
   "cell_type": "code",
   "execution_count": 7,
   "metadata": {
    "collapsed": false
   },
   "outputs": [
    {
     "name": "stdout",
     "output_type": "stream",
     "text": [
      "Precision: 0.98250728863\n",
      "Recall: 0.226936026936\n",
      "F1 score: 0.368708971554\n",
      "\n",
      "Confusion matrix: \n",
      "\n",
      "   S    -S\n",
      " S TP   FN\n",
      "-S FP   TN\n",
      "[[1478    6]\n",
      " [1148  337]]\n"
     ]
    }
   ],
   "source": [
    "from sklearn.metrics import recall_score, precision_score, f1_score\n",
    "\n",
    "recall = recall_score(labels, y)\n",
    "precision = precision_score(labels, y)\n",
    "confusion = confusion_matrix(labels, y, labels=None)\n",
    "f1 = f1_score(labels, y)\n",
    "\n",
    "print(\"Precision: \"+str(precision))\n",
    "print(\"Recall: \"+str(recall))\n",
    "print(\"F1 score: \"+str(f1))\n",
    "print(\"\\nConfusion matrix: \")\n",
    "print(\"\\n   S    -S\")\n",
    "print(\" S TP   FN\")\n",
    "print(\"-S FP   TN\")\n",
    "print(confusion)"
   ]
  },
  {
   "cell_type": "code",
   "execution_count": null,
   "metadata": {
    "collapsed": false
   },
   "outputs": [],
   "source": []
  },
  {
   "cell_type": "code",
   "execution_count": null,
   "metadata": {
    "collapsed": true
   },
   "outputs": [],
   "source": []
  }
 ],
 "metadata": {
  "kernelspec": {
   "display_name": "Python 3",
   "language": "python",
   "name": "python3"
  },
  "language_info": {
   "codemirror_mode": {
    "name": "ipython",
    "version": 3
   },
   "file_extension": ".py",
   "mimetype": "text/x-python",
   "name": "python",
   "nbconvert_exporter": "python",
   "pygments_lexer": "ipython3",
   "version": "3.4.3"
  }
 },
 "nbformat": 4,
 "nbformat_minor": 0
}
