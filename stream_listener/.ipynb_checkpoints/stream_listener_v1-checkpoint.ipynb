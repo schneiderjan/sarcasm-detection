{
 "cells": [
  {
   "cell_type": "code",
   "execution_count": 14,
   "metadata": {
    "collapsed": true
   },
   "outputs": [],
   "source": [
    "import time\n",
    "from tweepy import Stream\n",
    "from tweepy import OAuthHandler\n",
    "from tweepy.streaming import StreamListener\n",
    "import os"
   ]
  },
  {
   "cell_type": "code",
   "execution_count": 15,
   "metadata": {
    "collapsed": false
   },
   "outputs": [],
   "source": [
    "ckey = 'JyUOtuwklCj2m2u9crntFjM8Y'\n",
    "consumer_secret = 'rmh3QtNhZgYEO2bAyOTb4EBuPVkIqHbBnROko82LPoGev401D6'\n",
    "access_token_key = '329850385-I6QXG1DsJot5A4wP4EG24Xy8zdMx5kS0iVB1GGqc'\n",
    "access_token_secret = 'WCXBscFdD2GFD8Lp4qxeeTgGZgE2r63x0jxDi228TGC8z'\n",
    "\n",
    "\n",
    "start_time = time.time() #grabs the system time\n",
    "keyword_list = ['twitter'] #track list"
   ]
  },
  {
   "cell_type": "code",
   "execution_count": 16,
   "metadata": {
    "collapsed": false
   },
   "outputs": [],
   "source": [
    "#Listener Class Override\n",
    "class listener(StreamListener):\n",
    "\n",
    "\tdef __init__(self, start_time, time_limit=60):\n",
    "\n",
    "\t\tself.time = start_time\n",
    "\t\tself.limit = time_limit\n",
    "\n",
    "\tdef on_data(self, data):\n",
    "\n",
    "\t\twhile (time.time() - self.time) < self.limit:\n",
    "\n",
    "\t\t\ttry:\n",
    "\n",
    "\t\t\t\tsaveFile = open('raw_tweets.json', 'a')\n",
    "\t\t\t\tsaveFile.write(data)\n",
    "\t\t\t\tsaveFile.write('\\n')\n",
    "\t\t\t\tsaveFile.close()\n",
    "\n",
    "\t\t\t\treturn True\n",
    "\n",
    "\n",
    "\t\t\texcept Exception as e:\n",
    "\t\t\t\tprint ('failed ondata', str(e))\n",
    "\t\t\t\ttime.sleep(5)\n",
    "\t\t\t\tpass\n",
    "\n",
    "\t\texit()\n",
    "\n",
    "\tdef on_error(self, status):\n",
    "\n",
    "\t\tprint (statuses)"
   ]
  },
  {
   "cell_type": "code",
   "execution_count": null,
   "metadata": {
    "collapsed": false
   },
   "outputs": [],
   "source": [
    "auth = OAuthHandler(ckey, consumer_secret) #OAuth object\n",
    "auth.set_access_token(access_token_key, access_token_secret)\n",
    "\n",
    "\n",
    "twitterStream = Stream(auth, listener(start_time, time_limit=20)) #initialize Stream object with a time out limit\n",
    "twitterStream.filter(track=keyword_list, languages=\"en\")  #call the filter method to run the Stream Object"
   ]
  }
 ],
 "metadata": {
  "kernelspec": {
   "display_name": "Python 3",
   "language": "python",
   "name": "python3"
  },
  "language_info": {
   "codemirror_mode": {
    "name": "ipython",
    "version": 3
   },
   "file_extension": ".py",
   "mimetype": "text/x-python",
   "name": "python",
   "nbconvert_exporter": "python",
   "pygments_lexer": "ipython3",
   "version": "3.4.3"
  }
 },
 "nbformat": 4,
 "nbformat_minor": 0
}
