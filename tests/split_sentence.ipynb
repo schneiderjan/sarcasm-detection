{
 "cells": [
  {
   "cell_type": "code",
   "execution_count": 2,
   "metadata": {
    "collapsed": false
   },
   "outputs": [
    {
     "name": "stdout",
     "output_type": "stream",
     "text": [
      "['i', 'hate', 'how', 'much']\n",
      "['you', 'love', 'me']\n",
      "('Tweet TXT :  ', 'i hate how much')\n",
      "('Sentiment :  ', -0.30000000000000004, '(', 'Negative', ')\\n\\n')\n",
      "('Tweet TXT :  ', 'you love me')\n",
      "('Sentiment :  ', 0.5, '(', 'Positive', ')\\n\\n')\n",
      "not sarcasm\n"
     ]
    }
   ],
   "source": [
    "from twython import Twython\n",
    "import sys\n",
    "import codecs\n",
    "from pprint import pprint\n",
    "from textblob import TextBlob\n",
    "\n",
    "\n",
    "test_text = \"i hate how much you love me\"\n",
    "# test_list = test_text.split()\n",
    "# if len(test_list)%2 == 0:\n",
    "# \tcount = int(len(test_list)/2)\n",
    "# else:\n",
    "# \tcount = int((len(test_list)+1)/2)\n",
    "\n",
    "# first_half = \" \".join(test_list[0:count])\n",
    "# second_half = \" \".join(test_list[count:])\n",
    "# # Analysis\n",
    "# blob1 = TextBlob(first_half)\n",
    "#blob.translate(to=\"en\")\n",
    "#print blob\n",
    "if blob1.sentiment.polarity < 0: \n",
    "\tsentiment1 = \"Negative\" \n",
    "elif blob1.sentiment.polarity == 0: \n",
    "\tsentiment1 = \"Neutral\" \n",
    "else: \n",
    "\tsentiment1 = \"Positive\"\n",
    "\n",
    "blob2 = TextBlob(second_half)\n",
    "#blob.translate(to=\"en\")\n",
    "#print blob\n",
    "if blob2.sentiment.polarity < 0: \n",
    "\tsentiment2 = \"Negative\" \n",
    "elif blob2.sentiment.polarity == 0: \n",
    "\tsentiment2 = \"Neutral\" \n",
    "else: \n",
    "\tsentiment2 = \"Positive\"\n",
    "# Results\n",
    "\n",
    "print(test_list[0:count])\n",
    "print(test_list[count:])\n",
    "print('Tweet TXT :  ', first_half)\n",
    "print('Sentiment :  ', blob1.sentiment.polarity, '(', sentiment1, ')\\n\\n')\n",
    "print('Tweet TXT :  ', second_half)\n",
    "print('Sentiment :  ', blob2.sentiment.polarity, '(', sentiment2, ')\\n\\n')\n",
    "if blob1.sentiment.polarity>0 and blob2.sentiment.polarity<0:\n",
    "    print(\"sarcasm\")\n",
    "else:\n",
    "    print(\"not sarcasm\")"
   ]
  }
 ],
 "metadata": {
  "kernelspec": {
   "display_name": "Python 2",
   "language": "python",
   "name": "python2"
  },
  "language_info": {
   "codemirror_mode": {
    "name": "ipython",
    "version": 2
   },
   "file_extension": ".py",
   "mimetype": "text/x-python",
   "name": "python",
   "nbconvert_exporter": "python",
   "pygments_lexer": "ipython2",
   "version": "2.7.10"
  }
 },
 "nbformat": 4,
 "nbformat_minor": 0
}
