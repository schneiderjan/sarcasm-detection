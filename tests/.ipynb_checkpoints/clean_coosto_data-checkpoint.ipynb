{
 "cells": [
  {
   "cell_type": "code",
   "execution_count": 11,
   "metadata": {
    "collapsed": false
   },
   "outputs": [],
   "source": [
    "import pandas as pd\n",
    "import numpy as np\n",
    "import re\n",
    "df = pd.read_csv(\"dataset_sarcasm-withoutATmentions.csv\", sep=\"\\t\", lineterminator = \"\\n\",header=None, encoding='utf-8')\n",
    "                 \n",
    "# df.head(100)\n",
    "# df.tail(200)\n",
    "# df.sample()"
   ]
  },
  {
   "cell_type": "code",
   "execution_count": 12,
   "metadata": {
    "collapsed": false
   },
   "outputs": [],
   "source": [
    "df[1]=df[1].str.replace(\"@mention\",\"\").str.strip()\n",
    "df[1]=df[1].str.replace(\"@\\w*\",\"\").str.strip()\n",
    "# df[1]=df[1].str.replace(\"#\\w*\",\"\").str.strip()\n",
    "df[1]=df[1].str.replace(\"http.*[\\w\\s]*\",\"\").str.strip()"
   ]
  },
  {
   "cell_type": "code",
   "execution_count": 2,
   "metadata": {
    "collapsed": false
   },
   "outputs": [],
   "source": [
    "# df.to_csv(\"coosto_wo_mention_hashtags_links.csv\",sep=\",\",header=[\"id\",\"tweet\"])"
   ]
  },
  {
   "cell_type": "code",
   "execution_count": 3,
   "metadata": {
    "collapsed": false,
    "scrolled": true
   },
   "outputs": [],
   "source": [
    "from textblob import TextBlob\n",
    "import nltk\n",
    "from nltk.util import ngrams\n",
    "\n",
    "wordsN3=[]\n",
    "wordsN2=[]\n",
    "\n",
    "for sentence in df[1]:\n",
    "    sentence = TextBlob(str(sentence))\n",
    "#     wordsN3.append(sentence.ngrams(n=3))\n",
    "    bigram = ngrams(sentence.split(), 2)\n",
    "    trigram = ngrams(sentence.split(),3)\n",
    "    for gram in trigram:\n",
    "        wordsN3.append(gram)\n",
    "    for gram in bigram:\n",
    "        wordsN2.append(gram)"
   ]
  },
  {
   "cell_type": "code",
   "execution_count": 13,
   "metadata": {
    "collapsed": false
   },
   "outputs": [
    {
     "data": {
      "text/html": [
       "<div>\n",
       "<table border=\"1\" class=\"dataframe\">\n",
       "  <thead>\n",
       "    <tr style=\"text-align: right;\">\n",
       "      <th></th>\n",
       "      <th>0</th>\n",
       "      <th>1</th>\n",
       "      <th>3</th>\n",
       "    </tr>\n",
       "  </thead>\n",
       "  <tbody>\n",
       "    <tr>\n",
       "      <th>0</th>\n",
       "      <td>482398418183409664</td>\n",
       "      <td>.  geweten, had Ik Op tijd voor vervanging voo...</td>\n",
       "      <td>0</td>\n",
       "    </tr>\n",
       "    <tr>\n",
       "      <th>1</th>\n",
       "      <td>519378328609128448</td>\n",
       "      <td>Persoon onwel in overovervolle intercity Hoorn...</td>\n",
       "      <td>0</td>\n",
       "    </tr>\n",
       "    <tr>\n",
       "      <th>2</th>\n",
       "      <td>429337711628288000</td>\n",
       "      <td>Splitsing van Pro Rail en NS: de Spoorwegongev...</td>\n",
       "      <td>0</td>\n",
       "    </tr>\n",
       "    <tr>\n",
       "      <th>3</th>\n",
       "      <td>509232222713675776</td>\n",
       "      <td>Haha 2 minuten vertraging op de trein naar Ein...</td>\n",
       "      <td>0</td>\n",
       "    </tr>\n",
       "    <tr>\n",
       "      <th>4</th>\n",
       "      <td>455728037334896640</td>\n",
       "      <td>Waarom mag ik met een dal vrij abo geen rondje...</td>\n",
       "      <td>0</td>\n",
       "    </tr>\n",
       "  </tbody>\n",
       "</table>\n",
       "</div>"
      ],
      "text/plain": [
       "                    0                                                  1  3\n",
       "0  482398418183409664  .  geweten, had Ik Op tijd voor vervanging voo...  0\n",
       "1  519378328609128448  Persoon onwel in overovervolle intercity Hoorn...  0\n",
       "2  429337711628288000  Splitsing van Pro Rail en NS: de Spoorwegongev...  0\n",
       "3  509232222713675776  Haha 2 minuten vertraging op de trein naar Ein...  0\n",
       "4  455728037334896640  Waarom mag ik met een dal vrij abo geen rondje...  0"
      ]
     },
     "execution_count": 13,
     "metadata": {},
     "output_type": "execute_result"
    }
   ],
   "source": [
    "df[3]=0\n",
    "df.head()"
   ]
  },
  {
   "cell_type": "code",
   "execution_count": 1,
   "metadata": {
    "collapsed": false
   },
   "outputs": [
    {
     "ename": "IndentationError",
     "evalue": "unindent does not match any outer indentation level (<ipython-input-1-66bd63d7b700>, line 9)",
     "output_type": "error",
     "traceback": [
      "\u001b[1;36m  File \u001b[1;32m\"<ipython-input-1-66bd63d7b700>\"\u001b[1;36m, line \u001b[1;32m9\u001b[0m\n\u001b[1;33m    counter+=1\u001b[0m\n\u001b[1;37m              ^\u001b[0m\n\u001b[1;31mIndentationError\u001b[0m\u001b[1;31m:\u001b[0m unindent does not match any outer indentation level\n"
     ]
    }
   ],
   "source": [
    "counter = 0\n",
    "for tweet in df[1]:\n",
    "    print(tweet)\n",
    "    tweet= str(tweet)\n",
    "    if tweet.find(\"#sarcasme\") == -1:\n",
    "        df[3].loc[counter]=0\n",
    "    else:\n",
    "        df[3].loc[counter]=1\n",
    "    counter+=1"
   ]
  },
  {
   "cell_type": "code",
   "execution_count": null,
   "metadata": {
    "collapsed": true
   },
   "outputs": [],
   "source": [
    "df.head(100)"
   ]
  },
  {
   "cell_type": "code",
   "execution_count": null,
   "metadata": {
    "collapsed": true
   },
   "outputs": [],
   "source": [
    "# trigrams=[]\n",
    "# for wordlists in wordsN3:\n",
    "#     for ngrams in (wordlists):\n",
    "#         trigrams.append(ngrams)"
   ]
  },
  {
   "cell_type": "code",
   "execution_count": null,
   "metadata": {
    "collapsed": true
   },
   "outputs": [],
   "source": [
    "# bigrams=[]\n",
    "# for wordlists in wordsN2:\n",
    "#     for ngrams in (wordlists):\n",
    "#         bigrams.append(ngrams)"
   ]
  },
  {
   "cell_type": "code",
   "execution_count": null,
   "metadata": {
    "collapsed": false,
    "scrolled": false
   },
   "outputs": [],
   "source": [
    "from collections import Counter\n",
    "\n",
    "cntN3=Counter(wordsN3)\n",
    "cntN2=Counter(wordsN2)"
   ]
  },
  {
   "cell_type": "code",
   "execution_count": null,
   "metadata": {
    "collapsed": true
   },
   "outputs": [],
   "source": [
    "\n",
    "sentence = 'this is a foo bar sentences and i want to ngramize it'\n",
    "n = 3\n",
    "test=[]\n",
    "sixgrams = ngrams(sentence.split(), n)\n",
    "for grams in sixgrams:\n",
    "  test.append(grams)"
   ]
  },
  {
   "cell_type": "code",
   "execution_count": null,
   "metadata": {
    "collapsed": false
   },
   "outputs": [],
   "source": [
    "Counter(test)"
   ]
  }
 ],
 "metadata": {
  "kernelspec": {
   "display_name": "Python 3",
   "language": "python",
   "name": "python3"
  },
  "language_info": {
   "codemirror_mode": {
    "name": "ipython",
    "version": 3
   },
   "file_extension": ".py",
   "mimetype": "text/x-python",
   "name": "python",
   "nbconvert_exporter": "python",
   "pygments_lexer": "ipython3",
   "version": "3.4.3"
  }
 },
 "nbformat": 4,
 "nbformat_minor": 0
}
