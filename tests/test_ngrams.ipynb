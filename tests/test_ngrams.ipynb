{
 "cells": [
  {
   "cell_type": "code",
   "execution_count": 3,
   "metadata": {
    "collapsed": false
   },
   "outputs": [
    {
     "ename": "SyntaxError",
     "evalue": "invalid syntax (vaderSentiment.py, line 23)",
     "output_type": "error",
     "traceback": [
      "\u001b[1;36m  File \u001b[1;32m\"C:\\Users\\jan\\Anaconda3\\lib\\site-packages\\vaderSentiment\\vaderSentiment.py\"\u001b[1;36m, line \u001b[1;32m23\u001b[0m\n\u001b[1;33m    return dict(map(lambda (w, m): (w, float(m)), [wmsr.strip().split('\\t')[0:2] for wmsr in open(f) ]))\u001b[0m\n\u001b[1;37m                           ^\u001b[0m\n\u001b[1;31mSyntaxError\u001b[0m\u001b[1;31m:\u001b[0m invalid syntax\n"
     ]
    }
   ],
   "source": [
    "from twython import Twython\n",
    "import sys\n",
    "import codecs\n",
    "from pprint import pprint\n",
    "from textblob import TextBlob\n",
    "from vaderSentiment.vaderSentiment import sentiment as vaderSentiment \n",
    "\n",
    "test_text = TextBlob(\"i hate how much hate love me. Mondays are great but working is not\")\n",
    "test_text1 = \"Mondays are great but working is not\"\n",
    "n3= test_text.ngrams(n=3)\n",
    "n2= test_text.ngrams(n=2)\n",
    "n1= test_text.ngrams(n=1)"
   ]
  },
  {
   "cell_type": "code",
   "execution_count": null,
   "metadata": {
    "collapsed": true
   },
   "outputs": [],
   "source": [
    "def checkSentiment(ngram):\n",
    "    for words in ngram:\n",
    "        joinedWordlist = \" \".join(words)\n",
    "        print joinedWordlist\n",
    "        vs = vaderSentiment(joinedWordlist) \n",
    "        print \"\\n\\t\" + str(vs)"
   ]
  },
  {
   "cell_type": "code",
   "execution_count": null,
   "metadata": {
    "collapsed": false
   },
   "outputs": [],
   "source": [
    "checkSentiment(n3)\n",
    "checkSentiment(n2)\n",
    "checkSentiment(n1)"
   ]
  },
  {
   "cell_type": "code",
   "execution_count": null,
   "metadata": {
    "collapsed": false
   },
   "outputs": [],
   "source": [
    "vs1 = vaderSentiment(test_text1)\n",
    "print test_text1 +\"\\n\\t\" + str(vs1)"
   ]
  },
  {
   "cell_type": "code",
   "execution_count": null,
   "metadata": {
    "collapsed": false
   },
   "outputs": [],
   "source": []
  }
 ],
 "metadata": {
  "kernelspec": {
   "display_name": "Python 3",
   "language": "python",
   "name": "python3"
  },
  "language_info": {
   "codemirror_mode": {
    "name": "ipython",
    "version": 3
   },
   "file_extension": ".py",
   "mimetype": "text/x-python",
   "name": "python",
   "nbconvert_exporter": "python",
   "pygments_lexer": "ipython3",
   "version": "3.4.3"
  }
 },
 "nbformat": 4,
 "nbformat_minor": 0
}
